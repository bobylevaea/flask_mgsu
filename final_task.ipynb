{
  "cells": [
    {
      "cell_type": "markdown",
      "metadata": {
        "id": "HNOmZgYvtpbE"
      },
      "source": [
        "# Импорты\n"
      ]
    },
    {
      "cell_type": "code",
      "execution_count": 63,
      "metadata": {
        "id": "rZkvuk8-tpbG"
      },
      "outputs": [],
      "source": [
        "import pandas as pd\n",
        "import numpy as np\n",
        "import matplotlib.pyplot as plt\n",
        "import seaborn as sns\n",
        "from sklearn.preprocessing import MinMaxScaler, power_transform\n",
        "from sklearn.model_selection import train_test_split\n",
        "from sklearn.linear_model import LinearRegression\n",
        "from sklearn.neighbors import KNeighborsRegressor\n",
        "from sklearn.ensemble import RandomForestRegressor, GradientBoostingRegressor\n",
        "from sklearn.multioutput import MultiOutputRegressor\n",
        "from sklearn.metrics import mean_squared_error, mean_absolute_error, r2_score\n",
        "from sklearn.model_selection import GridSearchCV\n",
        "import pickle\n",
        "\n",
        "%matplotlib inline"
      ]
    },
    {
      "cell_type": "markdown",
      "metadata": {
        "id": "Fntt5DmgtpbI"
      },
      "source": [
        "# Загрузка данных\n",
        "\n"
      ]
    },
    {
      "cell_type": "code",
      "execution_count": 4,
      "metadata": {
        "id": "-zwQ6NlGtpbI"
      },
      "outputs": [],
      "source": [
        "df = pd.read_csv('/content/ebw_data.csv')"
      ]
    },
    {
      "cell_type": "markdown",
      "metadata": {
        "id": "73HZbmGNtpbI"
      },
      "source": [
        "# Изучение датасета"
      ]
    },
    {
      "cell_type": "code",
      "execution_count": 5,
      "metadata": {
        "colab": {
          "base_uri": "https://localhost:8080/",
          "height": 206
        },
        "id": "vOCfY_fUtpbI",
        "outputId": "81b60090-b6fa-40c8-cb0e-8bbc443de601"
      },
      "outputs": [
        {
          "output_type": "execute_result",
          "data": {
            "text/plain": [
              "   IW   IF   VW  FP  Depth  Width\n",
              "0  47  139  4.5  80   1.60   2.54\n",
              "1  47  139  4.5  80   1.62   2.50\n",
              "2  47  139  4.5  80   1.68   2.60\n",
              "3  47  139  4.5  80   1.58   2.52\n",
              "4  45  140  4.5  80   1.76   2.48"
            ],
            "text/html": [
              "\n",
              "  <div id=\"df-37a8ffd2-71a8-40cb-91ed-8550dfa25246\" class=\"colab-df-container\">\n",
              "    <div>\n",
              "<style scoped>\n",
              "    .dataframe tbody tr th:only-of-type {\n",
              "        vertical-align: middle;\n",
              "    }\n",
              "\n",
              "    .dataframe tbody tr th {\n",
              "        vertical-align: top;\n",
              "    }\n",
              "\n",
              "    .dataframe thead th {\n",
              "        text-align: right;\n",
              "    }\n",
              "</style>\n",
              "<table border=\"1\" class=\"dataframe\">\n",
              "  <thead>\n",
              "    <tr style=\"text-align: right;\">\n",
              "      <th></th>\n",
              "      <th>IW</th>\n",
              "      <th>IF</th>\n",
              "      <th>VW</th>\n",
              "      <th>FP</th>\n",
              "      <th>Depth</th>\n",
              "      <th>Width</th>\n",
              "    </tr>\n",
              "  </thead>\n",
              "  <tbody>\n",
              "    <tr>\n",
              "      <th>0</th>\n",
              "      <td>47</td>\n",
              "      <td>139</td>\n",
              "      <td>4.5</td>\n",
              "      <td>80</td>\n",
              "      <td>1.60</td>\n",
              "      <td>2.54</td>\n",
              "    </tr>\n",
              "    <tr>\n",
              "      <th>1</th>\n",
              "      <td>47</td>\n",
              "      <td>139</td>\n",
              "      <td>4.5</td>\n",
              "      <td>80</td>\n",
              "      <td>1.62</td>\n",
              "      <td>2.50</td>\n",
              "    </tr>\n",
              "    <tr>\n",
              "      <th>2</th>\n",
              "      <td>47</td>\n",
              "      <td>139</td>\n",
              "      <td>4.5</td>\n",
              "      <td>80</td>\n",
              "      <td>1.68</td>\n",
              "      <td>2.60</td>\n",
              "    </tr>\n",
              "    <tr>\n",
              "      <th>3</th>\n",
              "      <td>47</td>\n",
              "      <td>139</td>\n",
              "      <td>4.5</td>\n",
              "      <td>80</td>\n",
              "      <td>1.58</td>\n",
              "      <td>2.52</td>\n",
              "    </tr>\n",
              "    <tr>\n",
              "      <th>4</th>\n",
              "      <td>45</td>\n",
              "      <td>140</td>\n",
              "      <td>4.5</td>\n",
              "      <td>80</td>\n",
              "      <td>1.76</td>\n",
              "      <td>2.48</td>\n",
              "    </tr>\n",
              "  </tbody>\n",
              "</table>\n",
              "</div>\n",
              "    <div class=\"colab-df-buttons\">\n",
              "\n",
              "  <div class=\"colab-df-container\">\n",
              "    <button class=\"colab-df-convert\" onclick=\"convertToInteractive('df-37a8ffd2-71a8-40cb-91ed-8550dfa25246')\"\n",
              "            title=\"Convert this dataframe to an interactive table.\"\n",
              "            style=\"display:none;\">\n",
              "\n",
              "  <svg xmlns=\"http://www.w3.org/2000/svg\" height=\"24px\" viewBox=\"0 -960 960 960\">\n",
              "    <path d=\"M120-120v-720h720v720H120Zm60-500h600v-160H180v160Zm220 220h160v-160H400v160Zm0 220h160v-160H400v160ZM180-400h160v-160H180v160Zm440 0h160v-160H620v160ZM180-180h160v-160H180v160Zm440 0h160v-160H620v160Z\"/>\n",
              "  </svg>\n",
              "    </button>\n",
              "\n",
              "  <style>\n",
              "    .colab-df-container {\n",
              "      display:flex;\n",
              "      gap: 12px;\n",
              "    }\n",
              "\n",
              "    .colab-df-convert {\n",
              "      background-color: #E8F0FE;\n",
              "      border: none;\n",
              "      border-radius: 50%;\n",
              "      cursor: pointer;\n",
              "      display: none;\n",
              "      fill: #1967D2;\n",
              "      height: 32px;\n",
              "      padding: 0 0 0 0;\n",
              "      width: 32px;\n",
              "    }\n",
              "\n",
              "    .colab-df-convert:hover {\n",
              "      background-color: #E2EBFA;\n",
              "      box-shadow: 0px 1px 2px rgba(60, 64, 67, 0.3), 0px 1px 3px 1px rgba(60, 64, 67, 0.15);\n",
              "      fill: #174EA6;\n",
              "    }\n",
              "\n",
              "    .colab-df-buttons div {\n",
              "      margin-bottom: 4px;\n",
              "    }\n",
              "\n",
              "    [theme=dark] .colab-df-convert {\n",
              "      background-color: #3B4455;\n",
              "      fill: #D2E3FC;\n",
              "    }\n",
              "\n",
              "    [theme=dark] .colab-df-convert:hover {\n",
              "      background-color: #434B5C;\n",
              "      box-shadow: 0px 1px 3px 1px rgba(0, 0, 0, 0.15);\n",
              "      filter: drop-shadow(0px 1px 2px rgba(0, 0, 0, 0.3));\n",
              "      fill: #FFFFFF;\n",
              "    }\n",
              "  </style>\n",
              "\n",
              "    <script>\n",
              "      const buttonEl =\n",
              "        document.querySelector('#df-37a8ffd2-71a8-40cb-91ed-8550dfa25246 button.colab-df-convert');\n",
              "      buttonEl.style.display =\n",
              "        google.colab.kernel.accessAllowed ? 'block' : 'none';\n",
              "\n",
              "      async function convertToInteractive(key) {\n",
              "        const element = document.querySelector('#df-37a8ffd2-71a8-40cb-91ed-8550dfa25246');\n",
              "        const dataTable =\n",
              "          await google.colab.kernel.invokeFunction('convertToInteractive',\n",
              "                                                    [key], {});\n",
              "        if (!dataTable) return;\n",
              "\n",
              "        const docLinkHtml = 'Like what you see? Visit the ' +\n",
              "          '<a target=\"_blank\" href=https://colab.research.google.com/notebooks/data_table.ipynb>data table notebook</a>'\n",
              "          + ' to learn more about interactive tables.';\n",
              "        element.innerHTML = '';\n",
              "        dataTable['output_type'] = 'display_data';\n",
              "        await google.colab.output.renderOutput(dataTable, element);\n",
              "        const docLink = document.createElement('div');\n",
              "        docLink.innerHTML = docLinkHtml;\n",
              "        element.appendChild(docLink);\n",
              "      }\n",
              "    </script>\n",
              "  </div>\n",
              "\n",
              "\n",
              "<div id=\"df-8f531dd3-e5ce-4a93-9e63-220b9859f580\">\n",
              "  <button class=\"colab-df-quickchart\" onclick=\"quickchart('df-8f531dd3-e5ce-4a93-9e63-220b9859f580')\"\n",
              "            title=\"Suggest charts.\"\n",
              "            style=\"display:none;\">\n",
              "\n",
              "<svg xmlns=\"http://www.w3.org/2000/svg\" height=\"24px\"viewBox=\"0 0 24 24\"\n",
              "     width=\"24px\">\n",
              "    <g>\n",
              "        <path d=\"M19 3H5c-1.1 0-2 .9-2 2v14c0 1.1.9 2 2 2h14c1.1 0 2-.9 2-2V5c0-1.1-.9-2-2-2zM9 17H7v-7h2v7zm4 0h-2V7h2v10zm4 0h-2v-4h2v4z\"/>\n",
              "    </g>\n",
              "</svg>\n",
              "  </button>\n",
              "\n",
              "<style>\n",
              "  .colab-df-quickchart {\n",
              "      --bg-color: #E8F0FE;\n",
              "      --fill-color: #1967D2;\n",
              "      --hover-bg-color: #E2EBFA;\n",
              "      --hover-fill-color: #174EA6;\n",
              "      --disabled-fill-color: #AAA;\n",
              "      --disabled-bg-color: #DDD;\n",
              "  }\n",
              "\n",
              "  [theme=dark] .colab-df-quickchart {\n",
              "      --bg-color: #3B4455;\n",
              "      --fill-color: #D2E3FC;\n",
              "      --hover-bg-color: #434B5C;\n",
              "      --hover-fill-color: #FFFFFF;\n",
              "      --disabled-bg-color: #3B4455;\n",
              "      --disabled-fill-color: #666;\n",
              "  }\n",
              "\n",
              "  .colab-df-quickchart {\n",
              "    background-color: var(--bg-color);\n",
              "    border: none;\n",
              "    border-radius: 50%;\n",
              "    cursor: pointer;\n",
              "    display: none;\n",
              "    fill: var(--fill-color);\n",
              "    height: 32px;\n",
              "    padding: 0;\n",
              "    width: 32px;\n",
              "  }\n",
              "\n",
              "  .colab-df-quickchart:hover {\n",
              "    background-color: var(--hover-bg-color);\n",
              "    box-shadow: 0 1px 2px rgba(60, 64, 67, 0.3), 0 1px 3px 1px rgba(60, 64, 67, 0.15);\n",
              "    fill: var(--button-hover-fill-color);\n",
              "  }\n",
              "\n",
              "  .colab-df-quickchart-complete:disabled,\n",
              "  .colab-df-quickchart-complete:disabled:hover {\n",
              "    background-color: var(--disabled-bg-color);\n",
              "    fill: var(--disabled-fill-color);\n",
              "    box-shadow: none;\n",
              "  }\n",
              "\n",
              "  .colab-df-spinner {\n",
              "    border: 2px solid var(--fill-color);\n",
              "    border-color: transparent;\n",
              "    border-bottom-color: var(--fill-color);\n",
              "    animation:\n",
              "      spin 1s steps(1) infinite;\n",
              "  }\n",
              "\n",
              "  @keyframes spin {\n",
              "    0% {\n",
              "      border-color: transparent;\n",
              "      border-bottom-color: var(--fill-color);\n",
              "      border-left-color: var(--fill-color);\n",
              "    }\n",
              "    20% {\n",
              "      border-color: transparent;\n",
              "      border-left-color: var(--fill-color);\n",
              "      border-top-color: var(--fill-color);\n",
              "    }\n",
              "    30% {\n",
              "      border-color: transparent;\n",
              "      border-left-color: var(--fill-color);\n",
              "      border-top-color: var(--fill-color);\n",
              "      border-right-color: var(--fill-color);\n",
              "    }\n",
              "    40% {\n",
              "      border-color: transparent;\n",
              "      border-right-color: var(--fill-color);\n",
              "      border-top-color: var(--fill-color);\n",
              "    }\n",
              "    60% {\n",
              "      border-color: transparent;\n",
              "      border-right-color: var(--fill-color);\n",
              "    }\n",
              "    80% {\n",
              "      border-color: transparent;\n",
              "      border-right-color: var(--fill-color);\n",
              "      border-bottom-color: var(--fill-color);\n",
              "    }\n",
              "    90% {\n",
              "      border-color: transparent;\n",
              "      border-bottom-color: var(--fill-color);\n",
              "    }\n",
              "  }\n",
              "</style>\n",
              "\n",
              "  <script>\n",
              "    async function quickchart(key) {\n",
              "      const quickchartButtonEl =\n",
              "        document.querySelector('#' + key + ' button');\n",
              "      quickchartButtonEl.disabled = true;  // To prevent multiple clicks.\n",
              "      quickchartButtonEl.classList.add('colab-df-spinner');\n",
              "      try {\n",
              "        const charts = await google.colab.kernel.invokeFunction(\n",
              "            'suggestCharts', [key], {});\n",
              "      } catch (error) {\n",
              "        console.error('Error during call to suggestCharts:', error);\n",
              "      }\n",
              "      quickchartButtonEl.classList.remove('colab-df-spinner');\n",
              "      quickchartButtonEl.classList.add('colab-df-quickchart-complete');\n",
              "    }\n",
              "    (() => {\n",
              "      let quickchartButtonEl =\n",
              "        document.querySelector('#df-8f531dd3-e5ce-4a93-9e63-220b9859f580 button');\n",
              "      quickchartButtonEl.style.display =\n",
              "        google.colab.kernel.accessAllowed ? 'block' : 'none';\n",
              "    })();\n",
              "  </script>\n",
              "</div>\n",
              "    </div>\n",
              "  </div>\n"
            ]
          },
          "metadata": {},
          "execution_count": 5
        }
      ],
      "source": [
        "# вывод первых 5 строк\n",
        "df.head()"
      ]
    },
    {
      "cell_type": "code",
      "execution_count": 6,
      "metadata": {
        "colab": {
          "base_uri": "https://localhost:8080/"
        },
        "id": "4wRQBvyBtpbJ",
        "outputId": "7de423fa-3746-4736-c2ef-aab70a330d16"
      },
      "outputs": [
        {
          "output_type": "stream",
          "name": "stdout",
          "text": [
            "<class 'pandas.core.frame.DataFrame'>\n",
            "RangeIndex: 72 entries, 0 to 71\n",
            "Data columns (total 6 columns):\n",
            " #   Column  Non-Null Count  Dtype  \n",
            "---  ------  --------------  -----  \n",
            " 0   IW      72 non-null     int64  \n",
            " 1   IF      72 non-null     int64  \n",
            " 2   VW      72 non-null     float64\n",
            " 3   FP      72 non-null     int64  \n",
            " 4   Depth   72 non-null     float64\n",
            " 5   Width   72 non-null     float64\n",
            "dtypes: float64(3), int64(3)\n",
            "memory usage: 3.5 KB\n"
          ]
        }
      ],
      "source": [
        "# всего 72 строки, 6 колонок, тип данных - целые числа и числа с плавающей запятой, преобразование данных не требуется\n",
        "df.info()"
      ]
    },
    {
      "cell_type": "code",
      "execution_count": 7,
      "metadata": {
        "colab": {
          "base_uri": "https://localhost:8080/",
          "height": 300
        },
        "id": "uaD8SSH4tpbJ",
        "outputId": "dc8441d5-fde8-4f2c-9463-3450bc0a7cd3"
      },
      "outputs": [
        {
          "output_type": "execute_result",
          "data": {
            "text/plain": [
              "              IW          IF         VW          FP      Depth      Width\n",
              "count  72.000000   72.000000  72.000000   72.000000  72.000000  72.000000\n",
              "mean   45.666667  141.333333   8.638889   78.333333   1.195556   1.970417\n",
              "std     1.678363    5.145763   2.061078   21.493530   0.225081   0.279040\n",
              "min    43.000000  131.000000   4.500000   50.000000   0.800000   1.680000\n",
              "25%    44.000000  139.000000   8.000000   60.000000   1.080000   1.760000\n",
              "50%    45.500000  141.000000   9.000000   80.000000   1.200000   1.840000\n",
              "75%    47.000000  146.000000  10.000000   80.000000   1.290000   2.050000\n",
              "max    49.000000  150.000000  12.000000  125.000000   1.760000   2.600000"
            ],
            "text/html": [
              "\n",
              "  <div id=\"df-030437d1-479f-4b32-a572-720c13aa54c3\" class=\"colab-df-container\">\n",
              "    <div>\n",
              "<style scoped>\n",
              "    .dataframe tbody tr th:only-of-type {\n",
              "        vertical-align: middle;\n",
              "    }\n",
              "\n",
              "    .dataframe tbody tr th {\n",
              "        vertical-align: top;\n",
              "    }\n",
              "\n",
              "    .dataframe thead th {\n",
              "        text-align: right;\n",
              "    }\n",
              "</style>\n",
              "<table border=\"1\" class=\"dataframe\">\n",
              "  <thead>\n",
              "    <tr style=\"text-align: right;\">\n",
              "      <th></th>\n",
              "      <th>IW</th>\n",
              "      <th>IF</th>\n",
              "      <th>VW</th>\n",
              "      <th>FP</th>\n",
              "      <th>Depth</th>\n",
              "      <th>Width</th>\n",
              "    </tr>\n",
              "  </thead>\n",
              "  <tbody>\n",
              "    <tr>\n",
              "      <th>count</th>\n",
              "      <td>72.000000</td>\n",
              "      <td>72.000000</td>\n",
              "      <td>72.000000</td>\n",
              "      <td>72.000000</td>\n",
              "      <td>72.000000</td>\n",
              "      <td>72.000000</td>\n",
              "    </tr>\n",
              "    <tr>\n",
              "      <th>mean</th>\n",
              "      <td>45.666667</td>\n",
              "      <td>141.333333</td>\n",
              "      <td>8.638889</td>\n",
              "      <td>78.333333</td>\n",
              "      <td>1.195556</td>\n",
              "      <td>1.970417</td>\n",
              "    </tr>\n",
              "    <tr>\n",
              "      <th>std</th>\n",
              "      <td>1.678363</td>\n",
              "      <td>5.145763</td>\n",
              "      <td>2.061078</td>\n",
              "      <td>21.493530</td>\n",
              "      <td>0.225081</td>\n",
              "      <td>0.279040</td>\n",
              "    </tr>\n",
              "    <tr>\n",
              "      <th>min</th>\n",
              "      <td>43.000000</td>\n",
              "      <td>131.000000</td>\n",
              "      <td>4.500000</td>\n",
              "      <td>50.000000</td>\n",
              "      <td>0.800000</td>\n",
              "      <td>1.680000</td>\n",
              "    </tr>\n",
              "    <tr>\n",
              "      <th>25%</th>\n",
              "      <td>44.000000</td>\n",
              "      <td>139.000000</td>\n",
              "      <td>8.000000</td>\n",
              "      <td>60.000000</td>\n",
              "      <td>1.080000</td>\n",
              "      <td>1.760000</td>\n",
              "    </tr>\n",
              "    <tr>\n",
              "      <th>50%</th>\n",
              "      <td>45.500000</td>\n",
              "      <td>141.000000</td>\n",
              "      <td>9.000000</td>\n",
              "      <td>80.000000</td>\n",
              "      <td>1.200000</td>\n",
              "      <td>1.840000</td>\n",
              "    </tr>\n",
              "    <tr>\n",
              "      <th>75%</th>\n",
              "      <td>47.000000</td>\n",
              "      <td>146.000000</td>\n",
              "      <td>10.000000</td>\n",
              "      <td>80.000000</td>\n",
              "      <td>1.290000</td>\n",
              "      <td>2.050000</td>\n",
              "    </tr>\n",
              "    <tr>\n",
              "      <th>max</th>\n",
              "      <td>49.000000</td>\n",
              "      <td>150.000000</td>\n",
              "      <td>12.000000</td>\n",
              "      <td>125.000000</td>\n",
              "      <td>1.760000</td>\n",
              "      <td>2.600000</td>\n",
              "    </tr>\n",
              "  </tbody>\n",
              "</table>\n",
              "</div>\n",
              "    <div class=\"colab-df-buttons\">\n",
              "\n",
              "  <div class=\"colab-df-container\">\n",
              "    <button class=\"colab-df-convert\" onclick=\"convertToInteractive('df-030437d1-479f-4b32-a572-720c13aa54c3')\"\n",
              "            title=\"Convert this dataframe to an interactive table.\"\n",
              "            style=\"display:none;\">\n",
              "\n",
              "  <svg xmlns=\"http://www.w3.org/2000/svg\" height=\"24px\" viewBox=\"0 -960 960 960\">\n",
              "    <path d=\"M120-120v-720h720v720H120Zm60-500h600v-160H180v160Zm220 220h160v-160H400v160Zm0 220h160v-160H400v160ZM180-400h160v-160H180v160Zm440 0h160v-160H620v160ZM180-180h160v-160H180v160Zm440 0h160v-160H620v160Z\"/>\n",
              "  </svg>\n",
              "    </button>\n",
              "\n",
              "  <style>\n",
              "    .colab-df-container {\n",
              "      display:flex;\n",
              "      gap: 12px;\n",
              "    }\n",
              "\n",
              "    .colab-df-convert {\n",
              "      background-color: #E8F0FE;\n",
              "      border: none;\n",
              "      border-radius: 50%;\n",
              "      cursor: pointer;\n",
              "      display: none;\n",
              "      fill: #1967D2;\n",
              "      height: 32px;\n",
              "      padding: 0 0 0 0;\n",
              "      width: 32px;\n",
              "    }\n",
              "\n",
              "    .colab-df-convert:hover {\n",
              "      background-color: #E2EBFA;\n",
              "      box-shadow: 0px 1px 2px rgba(60, 64, 67, 0.3), 0px 1px 3px 1px rgba(60, 64, 67, 0.15);\n",
              "      fill: #174EA6;\n",
              "    }\n",
              "\n",
              "    .colab-df-buttons div {\n",
              "      margin-bottom: 4px;\n",
              "    }\n",
              "\n",
              "    [theme=dark] .colab-df-convert {\n",
              "      background-color: #3B4455;\n",
              "      fill: #D2E3FC;\n",
              "    }\n",
              "\n",
              "    [theme=dark] .colab-df-convert:hover {\n",
              "      background-color: #434B5C;\n",
              "      box-shadow: 0px 1px 3px 1px rgba(0, 0, 0, 0.15);\n",
              "      filter: drop-shadow(0px 1px 2px rgba(0, 0, 0, 0.3));\n",
              "      fill: #FFFFFF;\n",
              "    }\n",
              "  </style>\n",
              "\n",
              "    <script>\n",
              "      const buttonEl =\n",
              "        document.querySelector('#df-030437d1-479f-4b32-a572-720c13aa54c3 button.colab-df-convert');\n",
              "      buttonEl.style.display =\n",
              "        google.colab.kernel.accessAllowed ? 'block' : 'none';\n",
              "\n",
              "      async function convertToInteractive(key) {\n",
              "        const element = document.querySelector('#df-030437d1-479f-4b32-a572-720c13aa54c3');\n",
              "        const dataTable =\n",
              "          await google.colab.kernel.invokeFunction('convertToInteractive',\n",
              "                                                    [key], {});\n",
              "        if (!dataTable) return;\n",
              "\n",
              "        const docLinkHtml = 'Like what you see? Visit the ' +\n",
              "          '<a target=\"_blank\" href=https://colab.research.google.com/notebooks/data_table.ipynb>data table notebook</a>'\n",
              "          + ' to learn more about interactive tables.';\n",
              "        element.innerHTML = '';\n",
              "        dataTable['output_type'] = 'display_data';\n",
              "        await google.colab.output.renderOutput(dataTable, element);\n",
              "        const docLink = document.createElement('div');\n",
              "        docLink.innerHTML = docLinkHtml;\n",
              "        element.appendChild(docLink);\n",
              "      }\n",
              "    </script>\n",
              "  </div>\n",
              "\n",
              "\n",
              "<div id=\"df-62f62602-65ae-4c2f-a17c-77c0a00b0913\">\n",
              "  <button class=\"colab-df-quickchart\" onclick=\"quickchart('df-62f62602-65ae-4c2f-a17c-77c0a00b0913')\"\n",
              "            title=\"Suggest charts.\"\n",
              "            style=\"display:none;\">\n",
              "\n",
              "<svg xmlns=\"http://www.w3.org/2000/svg\" height=\"24px\"viewBox=\"0 0 24 24\"\n",
              "     width=\"24px\">\n",
              "    <g>\n",
              "        <path d=\"M19 3H5c-1.1 0-2 .9-2 2v14c0 1.1.9 2 2 2h14c1.1 0 2-.9 2-2V5c0-1.1-.9-2-2-2zM9 17H7v-7h2v7zm4 0h-2V7h2v10zm4 0h-2v-4h2v4z\"/>\n",
              "    </g>\n",
              "</svg>\n",
              "  </button>\n",
              "\n",
              "<style>\n",
              "  .colab-df-quickchart {\n",
              "      --bg-color: #E8F0FE;\n",
              "      --fill-color: #1967D2;\n",
              "      --hover-bg-color: #E2EBFA;\n",
              "      --hover-fill-color: #174EA6;\n",
              "      --disabled-fill-color: #AAA;\n",
              "      --disabled-bg-color: #DDD;\n",
              "  }\n",
              "\n",
              "  [theme=dark] .colab-df-quickchart {\n",
              "      --bg-color: #3B4455;\n",
              "      --fill-color: #D2E3FC;\n",
              "      --hover-bg-color: #434B5C;\n",
              "      --hover-fill-color: #FFFFFF;\n",
              "      --disabled-bg-color: #3B4455;\n",
              "      --disabled-fill-color: #666;\n",
              "  }\n",
              "\n",
              "  .colab-df-quickchart {\n",
              "    background-color: var(--bg-color);\n",
              "    border: none;\n",
              "    border-radius: 50%;\n",
              "    cursor: pointer;\n",
              "    display: none;\n",
              "    fill: var(--fill-color);\n",
              "    height: 32px;\n",
              "    padding: 0;\n",
              "    width: 32px;\n",
              "  }\n",
              "\n",
              "  .colab-df-quickchart:hover {\n",
              "    background-color: var(--hover-bg-color);\n",
              "    box-shadow: 0 1px 2px rgba(60, 64, 67, 0.3), 0 1px 3px 1px rgba(60, 64, 67, 0.15);\n",
              "    fill: var(--button-hover-fill-color);\n",
              "  }\n",
              "\n",
              "  .colab-df-quickchart-complete:disabled,\n",
              "  .colab-df-quickchart-complete:disabled:hover {\n",
              "    background-color: var(--disabled-bg-color);\n",
              "    fill: var(--disabled-fill-color);\n",
              "    box-shadow: none;\n",
              "  }\n",
              "\n",
              "  .colab-df-spinner {\n",
              "    border: 2px solid var(--fill-color);\n",
              "    border-color: transparent;\n",
              "    border-bottom-color: var(--fill-color);\n",
              "    animation:\n",
              "      spin 1s steps(1) infinite;\n",
              "  }\n",
              "\n",
              "  @keyframes spin {\n",
              "    0% {\n",
              "      border-color: transparent;\n",
              "      border-bottom-color: var(--fill-color);\n",
              "      border-left-color: var(--fill-color);\n",
              "    }\n",
              "    20% {\n",
              "      border-color: transparent;\n",
              "      border-left-color: var(--fill-color);\n",
              "      border-top-color: var(--fill-color);\n",
              "    }\n",
              "    30% {\n",
              "      border-color: transparent;\n",
              "      border-left-color: var(--fill-color);\n",
              "      border-top-color: var(--fill-color);\n",
              "      border-right-color: var(--fill-color);\n",
              "    }\n",
              "    40% {\n",
              "      border-color: transparent;\n",
              "      border-right-color: var(--fill-color);\n",
              "      border-top-color: var(--fill-color);\n",
              "    }\n",
              "    60% {\n",
              "      border-color: transparent;\n",
              "      border-right-color: var(--fill-color);\n",
              "    }\n",
              "    80% {\n",
              "      border-color: transparent;\n",
              "      border-right-color: var(--fill-color);\n",
              "      border-bottom-color: var(--fill-color);\n",
              "    }\n",
              "    90% {\n",
              "      border-color: transparent;\n",
              "      border-bottom-color: var(--fill-color);\n",
              "    }\n",
              "  }\n",
              "</style>\n",
              "\n",
              "  <script>\n",
              "    async function quickchart(key) {\n",
              "      const quickchartButtonEl =\n",
              "        document.querySelector('#' + key + ' button');\n",
              "      quickchartButtonEl.disabled = true;  // To prevent multiple clicks.\n",
              "      quickchartButtonEl.classList.add('colab-df-spinner');\n",
              "      try {\n",
              "        const charts = await google.colab.kernel.invokeFunction(\n",
              "            'suggestCharts', [key], {});\n",
              "      } catch (error) {\n",
              "        console.error('Error during call to suggestCharts:', error);\n",
              "      }\n",
              "      quickchartButtonEl.classList.remove('colab-df-spinner');\n",
              "      quickchartButtonEl.classList.add('colab-df-quickchart-complete');\n",
              "    }\n",
              "    (() => {\n",
              "      let quickchartButtonEl =\n",
              "        document.querySelector('#df-62f62602-65ae-4c2f-a17c-77c0a00b0913 button');\n",
              "      quickchartButtonEl.style.display =\n",
              "        google.colab.kernel.accessAllowed ? 'block' : 'none';\n",
              "    })();\n",
              "  </script>\n",
              "</div>\n",
              "    </div>\n",
              "  </div>\n"
            ]
          },
          "metadata": {},
          "execution_count": 7
        }
      ],
      "source": [
        "# разброс данных не большой\n",
        "df.describe()"
      ]
    },
    {
      "cell_type": "code",
      "execution_count": 8,
      "metadata": {
        "colab": {
          "base_uri": "https://localhost:8080/"
        },
        "id": "pP1sv6DYtpbK",
        "outputId": "ac46ec85-8a6a-44ac-f5e3-16dfb786197d"
      },
      "outputs": [
        {
          "output_type": "execute_result",
          "data": {
            "text/plain": [
              "IW       0\n",
              "IF       0\n",
              "VW       0\n",
              "FP       0\n",
              "Depth    0\n",
              "Width    0\n",
              "dtype: int64"
            ]
          },
          "metadata": {},
          "execution_count": 8
        }
      ],
      "source": [
        "# Проверка, есть ли отсутствующие значения, таких нет\n",
        "df.isnull().sum()"
      ]
    },
    {
      "cell_type": "code",
      "execution_count": 9,
      "metadata": {
        "colab": {
          "base_uri": "https://localhost:8080/",
          "height": 506
        },
        "id": "n2Qq1kiitpbK",
        "outputId": "d083668e-caf4-4c7f-d288-5b7a76a091e7"
      },
      "outputs": [
        {
          "output_type": "display_data",
          "data": {
            "text/plain": [
              "<Figure size 500x500 with 4 Axes>"
            ],
            "image/png": "[encoded data removed]"
          },
          "metadata": {}
        }
      ],
      "source": [
        "# Проверка, есть ли выбросы. Выбросы есть в колонках VW и FP, но данных не много, поэтому выбросы оставляю.\n",
        "fig, axs = plt.subplots(4, figsize = (5,5))\n",
        "plt1 = sns.boxplot(df['IW'], ax = axs[0])\n",
        "plt2 = sns.boxplot(df['IF'], ax = axs[1])\n",
        "plt3 = sns.boxplot(df['VW'], ax = axs[2])\n",
        "plt4 = sns.boxplot(df['FP'], ax = axs[3])\n",
        "plt.tight_layout()"
      ]
    },
    {
      "cell_type": "code",
      "execution_count": 10,
      "metadata": {
        "colab": {
          "base_uri": "https://localhost:8080/",
          "height": 433
        },
        "id": "Ui7nIj3BtpbK",
        "outputId": "b3b63eb5-6a05-473b-ad30-13f313c92f18"
      },
      "outputs": [
        {
          "output_type": "display_data",
          "data": {
            "text/plain": [
              "<Figure size 640x480 with 1 Axes>"
            ],
            "image/png": "[encoded data removed]"
          },
          "metadata": {}
        }
      ],
      "source": [
        "# Целевые переменные\n",
        "sns.boxplot(df['Depth'])\n",
        "\n",
        "plt.show()"
      ]
    },
    {
      "cell_type": "code",
      "execution_count": 11,
      "metadata": {
        "colab": {
          "base_uri": "https://localhost:8080/",
          "height": 430
        },
        "id": "mDn9wwNVtpbL",
        "outputId": "8ecc2186-1641-43db-c950-a32fb996a826"
      },
      "outputs": [
        {
          "output_type": "display_data",
          "data": {
            "text/plain": [
              "<Figure size 640x480 with 1 Axes>"
            ],
            "image/png": "[encoded data removed]"
          },
          "metadata": {}
        }
      ],
      "source": [
        "sns.boxplot(df['Width'])\n",
        "plt.show()"
      ]
    },
    {
      "cell_type": "code",
      "execution_count": 12,
      "metadata": {
        "colab": {
          "base_uri": "https://localhost:8080/",
          "height": 268
        },
        "id": "04CyHBvytpbL",
        "outputId": "7b4719a2-1b82-4cf9-921e-140ae1bc6ec8"
      },
      "outputs": [
        {
          "output_type": "display_data",
          "data": {
            "text/plain": [
              "<Figure size 1000x250 with 4 Axes>"
            ],
            "image/png": "[encoded data removed]"
          },
          "metadata": {}
        }
      ],
      "source": [
        "sns.pairplot(df, x_vars=['IW', 'IF', 'VW', 'FP'], y_vars='Width')\n",
        "plt.show()"
      ]
    },
    {
      "cell_type": "code",
      "execution_count": 13,
      "metadata": {
        "colab": {
          "base_uri": "https://localhost:8080/",
          "height": 268
        },
        "id": "ar74_bEvtpbL",
        "outputId": "6b52b0c8-841d-4721-ebc7-f39b20183c1f"
      },
      "outputs": [
        {
          "output_type": "display_data",
          "data": {
            "text/plain": [
              "<Figure size 1000x250 with 4 Axes>"
            ],
            "image/png": "[encoded data removed]"
          },
          "metadata": {}
        }
      ],
      "source": [
        "sns.pairplot(df, x_vars=['IW', 'IF', 'VW', 'FP'], y_vars='Depth')\n",
        "plt.show()"
      ]
    },
    {
      "cell_type": "code",
      "execution_count": 14,
      "metadata": {
        "colab": {
          "base_uri": "https://localhost:8080/",
          "height": 435
        },
        "id": "IpuGDfzetpbL",
        "outputId": "c8e99c3b-17d9-4c0b-fb2a-7ccad796058d"
      },
      "outputs": [
        {
          "output_type": "display_data",
          "data": {
            "text/plain": [
              "<Figure size 640x480 with 2 Axes>"
            ],
            "image/png": "[encoded data removed]"
          },
          "metadata": {}
        }
      ],
      "source": [
        "# Наблюдается достаточно высокая отрицательня корелляция глубины, ширины и VW,IF,а также положит. корелляция ширины и IW FP.\n",
        "# Интересно: выявлена высокая взаимосвязь признаков FP, IW, IF. В связи с тем, что датасет небольшой, оставила в первоначальном виде.\n",
        "# Целевые переменные также взаимозависимы.\n",
        "sns.heatmap(df.corr(), annot=True)\n",
        "plt.show()"
      ]
    },
    {
      "cell_type": "code",
      "execution_count": 15,
      "metadata": {
        "colab": {
          "base_uri": "https://localhost:8080/",
          "height": 1000
        },
        "id": "pHJ6xLbItpbM",
        "outputId": "85d35d88-17d9-4263-e39d-b6364be53b5e"
      },
      "outputs": [
        {
          "output_type": "execute_result",
          "data": {
            "text/plain": [
              "<seaborn.axisgrid.PairGrid at 0x7cfe601a8040>"
            ]
          },
          "metadata": {},
          "execution_count": 15
        },
        {
          "output_type": "display_data",
          "data": {
            "text/plain": [
              "<Figure size 1500x1500 with 42 Axes>"
            ],
            "image/png": "[encoded data removed]"
          },
          "metadata": {}
        }
      ],
      "source": [
        "sns.pairplot(df.head(72), diag_kind='kde')"
      ]
    },
    {
      "cell_type": "markdown",
      "metadata": {
        "id": "NKdhUnWFtpbM"
      },
      "source": [
        "# Сборка датасета"
      ]
    },
    {
      "cell_type": "code",
      "execution_count": 16,
      "metadata": {
        "id": "RuWpCn6PtpbM"
      },
      "outputs": [],
      "source": [
        "# Выделение целевых переменных\n",
        "X = df.drop([\"Width\", \"Depth\"], axis=1)\n",
        "Y = df[[\"Width\", \"Depth\"]].copy()"
      ]
    },
    {
      "cell_type": "code",
      "execution_count": 17,
      "metadata": {
        "colab": {
          "base_uri": "https://localhost:8080/"
        },
        "id": "hlKL13-RtpbM",
        "outputId": "a3d401ba-2c53-4518-85ea-b47330cba1b3"
      },
      "outputs": [
        {
          "output_type": "execute_result",
          "data": {
            "text/plain": [
              "((72, 4), (72, 2))"
            ]
          },
          "metadata": {},
          "execution_count": 17
        }
      ],
      "source": [
        "# Проверка размерности\n",
        "X.shape, Y.shape"
      ]
    },
    {
      "cell_type": "code",
      "execution_count": 18,
      "metadata": {
        "colab": {
          "base_uri": "https://localhost:8080/",
          "height": 300
        },
        "id": "aQG3ubDztpbM",
        "outputId": "7dbf6540-0405-42d6-cc57-910bda7b4d64"
      },
      "outputs": [
        {
          "output_type": "execute_result",
          "data": {
            "text/plain": [
              "              IW          IF         VW          FP\n",
              "count  72.000000   72.000000  72.000000   72.000000\n",
              "mean   45.666667  141.333333   8.638889   78.333333\n",
              "std     1.678363    5.145763   2.061078   21.493530\n",
              "min    43.000000  131.000000   4.500000   50.000000\n",
              "25%    44.000000  139.000000   8.000000   60.000000\n",
              "50%    45.500000  141.000000   9.000000   80.000000\n",
              "75%    47.000000  146.000000  10.000000   80.000000\n",
              "max    49.000000  150.000000  12.000000  125.000000"
            ],
            "text/html": [
              "\n",
              "  <div id=\"df-e75ff979-a5dd-4d93-a902-892f182e8566\" class=\"colab-df-container\">\n",
              "    <div>\n",
              "<style scoped>\n",
              "    .dataframe tbody tr th:only-of-type {\n",
              "        vertical-align: middle;\n",
              "    }\n",
              "\n",
              "    .dataframe tbody tr th {\n",
              "        vertical-align: top;\n",
              "    }\n",
              "\n",
              "    .dataframe thead th {\n",
              "        text-align: right;\n",
              "    }\n",
              "</style>\n",
              "<table border=\"1\" class=\"dataframe\">\n",
              "  <thead>\n",
              "    <tr style=\"text-align: right;\">\n",
              "      <th></th>\n",
              "      <th>IW</th>\n",
              "      <th>IF</th>\n",
              "      <th>VW</th>\n",
              "      <th>FP</th>\n",
              "    </tr>\n",
              "  </thead>\n",
              "  <tbody>\n",
              "    <tr>\n",
              "      <th>count</th>\n",
              "      <td>72.000000</td>\n",
              "      <td>72.000000</td>\n",
              "      <td>72.000000</td>\n",
              "      <td>72.000000</td>\n",
              "    </tr>\n",
              "    <tr>\n",
              "      <th>mean</th>\n",
              "      <td>45.666667</td>\n",
              "      <td>141.333333</td>\n",
              "      <td>8.638889</td>\n",
              "      <td>78.333333</td>\n",
              "    </tr>\n",
              "    <tr>\n",
              "      <th>std</th>\n",
              "      <td>1.678363</td>\n",
              "      <td>5.145763</td>\n",
              "      <td>2.061078</td>\n",
              "      <td>21.493530</td>\n",
              "    </tr>\n",
              "    <tr>\n",
              "      <th>min</th>\n",
              "      <td>43.000000</td>\n",
              "      <td>131.000000</td>\n",
              "      <td>4.500000</td>\n",
              "      <td>50.000000</td>\n",
              "    </tr>\n",
              "    <tr>\n",
              "      <th>25%</th>\n",
              "      <td>44.000000</td>\n",
              "      <td>139.000000</td>\n",
              "      <td>8.000000</td>\n",
              "      <td>60.000000</td>\n",
              "    </tr>\n",
              "    <tr>\n",
              "      <th>50%</th>\n",
              "      <td>45.500000</td>\n",
              "      <td>141.000000</td>\n",
              "      <td>9.000000</td>\n",
              "      <td>80.000000</td>\n",
              "    </tr>\n",
              "    <tr>\n",
              "      <th>75%</th>\n",
              "      <td>47.000000</td>\n",
              "      <td>146.000000</td>\n",
              "      <td>10.000000</td>\n",
              "      <td>80.000000</td>\n",
              "    </tr>\n",
              "    <tr>\n",
              "      <th>max</th>\n",
              "      <td>49.000000</td>\n",
              "      <td>150.000000</td>\n",
              "      <td>12.000000</td>\n",
              "      <td>125.000000</td>\n",
              "    </tr>\n",
              "  </tbody>\n",
              "</table>\n",
              "</div>\n",
              "    <div class=\"colab-df-buttons\">\n",
              "\n",
              "  <div class=\"colab-df-container\">\n",
              "    <button class=\"colab-df-convert\" onclick=\"convertToInteractive('df-e75ff979-a5dd-4d93-a902-892f182e8566')\"\n",
              "            title=\"Convert this dataframe to an interactive table.\"\n",
              "            style=\"display:none;\">\n",
              "\n",
              "  <svg xmlns=\"http://www.w3.org/2000/svg\" height=\"24px\" viewBox=\"0 -960 960 960\">\n",
              "    <path d=\"M120-120v-720h720v720H120Zm60-500h600v-160H180v160Zm220 220h160v-160H400v160Zm0 220h160v-160H400v160ZM180-400h160v-160H180v160Zm440 0h160v-160H620v160ZM180-180h160v-160H180v160Zm440 0h160v-160H620v160Z\"/>\n",
              "  </svg>\n",
              "    </button>\n",
              "\n",
              "  <style>\n",
              "    .colab-df-container {\n",
              "      display:flex;\n",
              "      gap: 12px;\n",
              "    }\n",
              "\n",
              "    .colab-df-convert {\n",
              "      background-color: #E8F0FE;\n",
              "      border: none;\n",
              "      border-radius: 50%;\n",
              "      cursor: pointer;\n",
              "      display: none;\n",
              "      fill: #1967D2;\n",
              "      height: 32px;\n",
              "      padding: 0 0 0 0;\n",
              "      width: 32px;\n",
              "    }\n",
              "\n",
              "    .colab-df-convert:hover {\n",
              "      background-color: #E2EBFA;\n",
              "      box-shadow: 0px 1px 2px rgba(60, 64, 67, 0.3), 0px 1px 3px 1px rgba(60, 64, 67, 0.15);\n",
              "      fill: #174EA6;\n",
              "    }\n",
              "\n",
              "    .colab-df-buttons div {\n",
              "      margin-bottom: 4px;\n",
              "    }\n",
              "\n",
              "    [theme=dark] .colab-df-convert {\n",
              "      background-color: #3B4455;\n",
              "      fill: #D2E3FC;\n",
              "    }\n",
              "\n",
              "    [theme=dark] .colab-df-convert:hover {\n",
              "      background-color: #434B5C;\n",
              "      box-shadow: 0px 1px 3px 1px rgba(0, 0, 0, 0.15);\n",
              "      filter: drop-shadow(0px 1px 2px rgba(0, 0, 0, 0.3));\n",
              "      fill: #FFFFFF;\n",
              "    }\n",
              "  </style>\n",
              "\n",
              "    <script>\n",
              "      const buttonEl =\n",
              "        document.querySelector('#df-e75ff979-a5dd-4d93-a902-892f182e8566 button.colab-df-convert');\n",
              "      buttonEl.style.display =\n",
              "        google.colab.kernel.accessAllowed ? 'block' : 'none';\n",
              "\n",
              "      async function convertToInteractive(key) {\n",
              "        const element = document.querySelector('#df-e75ff979-a5dd-4d93-a902-892f182e8566');\n",
              "        const dataTable =\n",
              "          await google.colab.kernel.invokeFunction('convertToInteractive',\n",
              "                                                    [key], {});\n",
              "        if (!dataTable) return;\n",
              "\n",
              "        const docLinkHtml = 'Like what you see? Visit the ' +\n",
              "          '<a target=\"_blank\" href=https://colab.research.google.com/notebooks/data_table.ipynb>data table notebook</a>'\n",
              "          + ' to learn more about interactive tables.';\n",
              "        element.innerHTML = '';\n",
              "        dataTable['output_type'] = 'display_data';\n",
              "        await google.colab.output.renderOutput(dataTable, element);\n",
              "        const docLink = document.createElement('div');\n",
              "        docLink.innerHTML = docLinkHtml;\n",
              "        element.appendChild(docLink);\n",
              "      }\n",
              "    </script>\n",
              "  </div>\n",
              "\n",
              "\n",
              "<div id=\"df-f33578c6-1d81-422e-9457-d1c35d47d177\">\n",
              "  <button class=\"colab-df-quickchart\" onclick=\"quickchart('df-f33578c6-1d81-422e-9457-d1c35d47d177')\"\n",
              "            title=\"Suggest charts.\"\n",
              "            style=\"display:none;\">\n",
              "\n",
              "<svg xmlns=\"http://www.w3.org/2000/svg\" height=\"24px\"viewBox=\"0 0 24 24\"\n",
              "     width=\"24px\">\n",
              "    <g>\n",
              "        <path d=\"M19 3H5c-1.1 0-2 .9-2 2v14c0 1.1.9 2 2 2h14c1.1 0 2-.9 2-2V5c0-1.1-.9-2-2-2zM9 17H7v-7h2v7zm4 0h-2V7h2v10zm4 0h-2v-4h2v4z\"/>\n",
              "    </g>\n",
              "</svg>\n",
              "  </button>\n",
              "\n",
              "<style>\n",
              "  .colab-df-quickchart {\n",
              "      --bg-color: #E8F0FE;\n",
              "      --fill-color: #1967D2;\n",
              "      --hover-bg-color: #E2EBFA;\n",
              "      --hover-fill-color: #174EA6;\n",
              "      --disabled-fill-color: #AAA;\n",
              "      --disabled-bg-color: #DDD;\n",
              "  }\n",
              "\n",
              "  [theme=dark] .colab-df-quickchart {\n",
              "      --bg-color: #3B4455;\n",
              "      --fill-color: #D2E3FC;\n",
              "      --hover-bg-color: #434B5C;\n",
              "      --hover-fill-color: #FFFFFF;\n",
              "      --disabled-bg-color: #3B4455;\n",
              "      --disabled-fill-color: #666;\n",
              "  }\n",
              "\n",
              "  .colab-df-quickchart {\n",
              "    background-color: var(--bg-color);\n",
              "    border: none;\n",
              "    border-radius: 50%;\n",
              "    cursor: pointer;\n",
              "    display: none;\n",
              "    fill: var(--fill-color);\n",
              "    height: 32px;\n",
              "    padding: 0;\n",
              "    width: 32px;\n",
              "  }\n",
              "\n",
              "  .colab-df-quickchart:hover {\n",
              "    background-color: var(--hover-bg-color);\n",
              "    box-shadow: 0 1px 2px rgba(60, 64, 67, 0.3), 0 1px 3px 1px rgba(60, 64, 67, 0.15);\n",
              "    fill: var(--button-hover-fill-color);\n",
              "  }\n",
              "\n",
              "  .colab-df-quickchart-complete:disabled,\n",
              "  .colab-df-quickchart-complete:disabled:hover {\n",
              "    background-color: var(--disabled-bg-color);\n",
              "    fill: var(--disabled-fill-color);\n",
              "    box-shadow: none;\n",
              "  }\n",
              "\n",
              "  .colab-df-spinner {\n",
              "    border: 2px solid var(--fill-color);\n",
              "    border-color: transparent;\n",
              "    border-bottom-color: var(--fill-color);\n",
              "    animation:\n",
              "      spin 1s steps(1) infinite;\n",
              "  }\n",
              "\n",
              "  @keyframes spin {\n",
              "    0% {\n",
              "      border-color: transparent;\n",
              "      border-bottom-color: var(--fill-color);\n",
              "      border-left-color: var(--fill-color);\n",
              "    }\n",
              "    20% {\n",
              "      border-color: transparent;\n",
              "      border-left-color: var(--fill-color);\n",
              "      border-top-color: var(--fill-color);\n",
              "    }\n",
              "    30% {\n",
              "      border-color: transparent;\n",
              "      border-left-color: var(--fill-color);\n",
              "      border-top-color: var(--fill-color);\n",
              "      border-right-color: var(--fill-color);\n",
              "    }\n",
              "    40% {\n",
              "      border-color: transparent;\n",
              "      border-right-color: var(--fill-color);\n",
              "      border-top-color: var(--fill-color);\n",
              "    }\n",
              "    60% {\n",
              "      border-color: transparent;\n",
              "      border-right-color: var(--fill-color);\n",
              "    }\n",
              "    80% {\n",
              "      border-color: transparent;\n",
              "      border-right-color: var(--fill-color);\n",
              "      border-bottom-color: var(--fill-color);\n",
              "    }\n",
              "    90% {\n",
              "      border-color: transparent;\n",
              "      border-bottom-color: var(--fill-color);\n",
              "    }\n",
              "  }\n",
              "</style>\n",
              "\n",
              "  <script>\n",
              "    async function quickchart(key) {\n",
              "      const quickchartButtonEl =\n",
              "        document.querySelector('#' + key + ' button');\n",
              "      quickchartButtonEl.disabled = true;  // To prevent multiple clicks.\n",
              "      quickchartButtonEl.classList.add('colab-df-spinner');\n",
              "      try {\n",
              "        const charts = await google.colab.kernel.invokeFunction(\n",
              "            'suggestCharts', [key], {});\n",
              "      } catch (error) {\n",
              "        console.error('Error during call to suggestCharts:', error);\n",
              "      }\n",
              "      quickchartButtonEl.classList.remove('colab-df-spinner');\n",
              "      quickchartButtonEl.classList.add('colab-df-quickchart-complete');\n",
              "    }\n",
              "    (() => {\n",
              "      let quickchartButtonEl =\n",
              "        document.querySelector('#df-f33578c6-1d81-422e-9457-d1c35d47d177 button');\n",
              "      quickchartButtonEl.style.display =\n",
              "        google.colab.kernel.accessAllowed ? 'block' : 'none';\n",
              "    })();\n",
              "  </script>\n",
              "</div>\n",
              "    </div>\n",
              "  </div>\n"
            ]
          },
          "metadata": {},
          "execution_count": 18
        }
      ],
      "source": [
        "# описание датасета без целевых переменных\n",
        "X.describe()"
      ]
    },
    {
      "cell_type": "code",
      "execution_count": 19,
      "metadata": {
        "colab": {
          "base_uri": "https://localhost:8080/",
          "height": 300
        },
        "id": "eqR6uNGJtpbM",
        "outputId": "f63f0093-0dee-4b61-af90-606ebd2eab0c"
      },
      "outputs": [
        {
          "output_type": "execute_result",
          "data": {
            "text/plain": [
              "           Width      Depth\n",
              "count  72.000000  72.000000\n",
              "mean    1.970417   1.195556\n",
              "std     0.279040   0.225081\n",
              "min     1.680000   0.800000\n",
              "25%     1.760000   1.080000\n",
              "50%     1.840000   1.200000\n",
              "75%     2.050000   1.290000\n",
              "max     2.600000   1.760000"
            ],
            "text/html": [
              "\n",
              "  <div id=\"df-1f424d26-39c8-4a15-be8a-6f8b604d93f4\" class=\"colab-df-container\">\n",
              "    <div>\n",
              "<style scoped>\n",
              "    .dataframe tbody tr th:only-of-type {\n",
              "        vertical-align: middle;\n",
              "    }\n",
              "\n",
              "    .dataframe tbody tr th {\n",
              "        vertical-align: top;\n",
              "    }\n",
              "\n",
              "    .dataframe thead th {\n",
              "        text-align: right;\n",
              "    }\n",
              "</style>\n",
              "<table border=\"1\" class=\"dataframe\">\n",
              "  <thead>\n",
              "    <tr style=\"text-align: right;\">\n",
              "      <th></th>\n",
              "      <th>Width</th>\n",
              "      <th>Depth</th>\n",
              "    </tr>\n",
              "  </thead>\n",
              "  <tbody>\n",
              "    <tr>\n",
              "      <th>count</th>\n",
              "      <td>72.000000</td>\n",
              "      <td>72.000000</td>\n",
              "    </tr>\n",
              "    <tr>\n",
              "      <th>mean</th>\n",
              "      <td>1.970417</td>\n",
              "      <td>1.195556</td>\n",
              "    </tr>\n",
              "    <tr>\n",
              "      <th>std</th>\n",
              "      <td>0.279040</td>\n",
              "      <td>0.225081</td>\n",
              "    </tr>\n",
              "    <tr>\n",
              "      <th>min</th>\n",
              "      <td>1.680000</td>\n",
              "      <td>0.800000</td>\n",
              "    </tr>\n",
              "    <tr>\n",
              "      <th>25%</th>\n",
              "      <td>1.760000</td>\n",
              "      <td>1.080000</td>\n",
              "    </tr>\n",
              "    <tr>\n",
              "      <th>50%</th>\n",
              "      <td>1.840000</td>\n",
              "      <td>1.200000</td>\n",
              "    </tr>\n",
              "    <tr>\n",
              "      <th>75%</th>\n",
              "      <td>2.050000</td>\n",
              "      <td>1.290000</td>\n",
              "    </tr>\n",
              "    <tr>\n",
              "      <th>max</th>\n",
              "      <td>2.600000</td>\n",
              "      <td>1.760000</td>\n",
              "    </tr>\n",
              "  </tbody>\n",
              "</table>\n",
              "</div>\n",
              "    <div class=\"colab-df-buttons\">\n",
              "\n",
              "  <div class=\"colab-df-container\">\n",
              "    <button class=\"colab-df-convert\" onclick=\"convertToInteractive('df-1f424d26-39c8-4a15-be8a-6f8b604d93f4')\"\n",
              "            title=\"Convert this dataframe to an interactive table.\"\n",
              "            style=\"display:none;\">\n",
              "\n",
              "  <svg xmlns=\"http://www.w3.org/2000/svg\" height=\"24px\" viewBox=\"0 -960 960 960\">\n",
              "    <path d=\"M120-120v-720h720v720H120Zm60-500h600v-160H180v160Zm220 220h160v-160H400v160Zm0 220h160v-160H400v160ZM180-400h160v-160H180v160Zm440 0h160v-160H620v160ZM180-180h160v-160H180v160Zm440 0h160v-160H620v160Z\"/>\n",
              "  </svg>\n",
              "    </button>\n",
              "\n",
              "  <style>\n",
              "    .colab-df-container {\n",
              "      display:flex;\n",
              "      gap: 12px;\n",
              "    }\n",
              "\n",
              "    .colab-df-convert {\n",
              "      background-color: #E8F0FE;\n",
              "      border: none;\n",
              "      border-radius: 50%;\n",
              "      cursor: pointer;\n",
              "      display: none;\n",
              "      fill: #1967D2;\n",
              "      height: 32px;\n",
              "      padding: 0 0 0 0;\n",
              "      width: 32px;\n",
              "    }\n",
              "\n",
              "    .colab-df-convert:hover {\n",
              "      background-color: #E2EBFA;\n",
              "      box-shadow: 0px 1px 2px rgba(60, 64, 67, 0.3), 0px 1px 3px 1px rgba(60, 64, 67, 0.15);\n",
              "      fill: #174EA6;\n",
              "    }\n",
              "\n",
              "    .colab-df-buttons div {\n",
              "      margin-bottom: 4px;\n",
              "    }\n",
              "\n",
              "    [theme=dark] .colab-df-convert {\n",
              "      background-color: #3B4455;\n",
              "      fill: #D2E3FC;\n",
              "    }\n",
              "\n",
              "    [theme=dark] .colab-df-convert:hover {\n",
              "      background-color: #434B5C;\n",
              "      box-shadow: 0px 1px 3px 1px rgba(0, 0, 0, 0.15);\n",
              "      filter: drop-shadow(0px 1px 2px rgba(0, 0, 0, 0.3));\n",
              "      fill: #FFFFFF;\n",
              "    }\n",
              "  </style>\n",
              "\n",
              "    <script>\n",
              "      const buttonEl =\n",
              "        document.querySelector('#df-1f424d26-39c8-4a15-be8a-6f8b604d93f4 button.colab-df-convert');\n",
              "      buttonEl.style.display =\n",
              "        google.colab.kernel.accessAllowed ? 'block' : 'none';\n",
              "\n",
              "      async function convertToInteractive(key) {\n",
              "        const element = document.querySelector('#df-1f424d26-39c8-4a15-be8a-6f8b604d93f4');\n",
              "        const dataTable =\n",
              "          await google.colab.kernel.invokeFunction('convertToInteractive',\n",
              "                                                    [key], {});\n",
              "        if (!dataTable) return;\n",
              "\n",
              "        const docLinkHtml = 'Like what you see? Visit the ' +\n",
              "          '<a target=\"_blank\" href=https://colab.research.google.com/notebooks/data_table.ipynb>data table notebook</a>'\n",
              "          + ' to learn more about interactive tables.';\n",
              "        element.innerHTML = '';\n",
              "        dataTable['output_type'] = 'display_data';\n",
              "        await google.colab.output.renderOutput(dataTable, element);\n",
              "        const docLink = document.createElement('div');\n",
              "        docLink.innerHTML = docLinkHtml;\n",
              "        element.appendChild(docLink);\n",
              "      }\n",
              "    </script>\n",
              "  </div>\n",
              "\n",
              "\n",
              "<div id=\"df-bc5db14b-4f8c-4275-979b-4ae7ff1b551d\">\n",
              "  <button class=\"colab-df-quickchart\" onclick=\"quickchart('df-bc5db14b-4f8c-4275-979b-4ae7ff1b551d')\"\n",
              "            title=\"Suggest charts.\"\n",
              "            style=\"display:none;\">\n",
              "\n",
              "<svg xmlns=\"http://www.w3.org/2000/svg\" height=\"24px\"viewBox=\"0 0 24 24\"\n",
              "     width=\"24px\">\n",
              "    <g>\n",
              "        <path d=\"M19 3H5c-1.1 0-2 .9-2 2v14c0 1.1.9 2 2 2h14c1.1 0 2-.9 2-2V5c0-1.1-.9-2-2-2zM9 17H7v-7h2v7zm4 0h-2V7h2v10zm4 0h-2v-4h2v4z\"/>\n",
              "    </g>\n",
              "</svg>\n",
              "  </button>\n",
              "\n",
              "<style>\n",
              "  .colab-df-quickchart {\n",
              "      --bg-color: #E8F0FE;\n",
              "      --fill-color: #1967D2;\n",
              "      --hover-bg-color: #E2EBFA;\n",
              "      --hover-fill-color: #174EA6;\n",
              "      --disabled-fill-color: #AAA;\n",
              "      --disabled-bg-color: #DDD;\n",
              "  }\n",
              "\n",
              "  [theme=dark] .colab-df-quickchart {\n",
              "      --bg-color: #3B4455;\n",
              "      --fill-color: #D2E3FC;\n",
              "      --hover-bg-color: #434B5C;\n",
              "      --hover-fill-color: #FFFFFF;\n",
              "      --disabled-bg-color: #3B4455;\n",
              "      --disabled-fill-color: #666;\n",
              "  }\n",
              "\n",
              "  .colab-df-quickchart {\n",
              "    background-color: var(--bg-color);\n",
              "    border: none;\n",
              "    border-radius: 50%;\n",
              "    cursor: pointer;\n",
              "    display: none;\n",
              "    fill: var(--fill-color);\n",
              "    height: 32px;\n",
              "    padding: 0;\n",
              "    width: 32px;\n",
              "  }\n",
              "\n",
              "  .colab-df-quickchart:hover {\n",
              "    background-color: var(--hover-bg-color);\n",
              "    box-shadow: 0 1px 2px rgba(60, 64, 67, 0.3), 0 1px 3px 1px rgba(60, 64, 67, 0.15);\n",
              "    fill: var(--button-hover-fill-color);\n",
              "  }\n",
              "\n",
              "  .colab-df-quickchart-complete:disabled,\n",
              "  .colab-df-quickchart-complete:disabled:hover {\n",
              "    background-color: var(--disabled-bg-color);\n",
              "    fill: var(--disabled-fill-color);\n",
              "    box-shadow: none;\n",
              "  }\n",
              "\n",
              "  .colab-df-spinner {\n",
              "    border: 2px solid var(--fill-color);\n",
              "    border-color: transparent;\n",
              "    border-bottom-color: var(--fill-color);\n",
              "    animation:\n",
              "      spin 1s steps(1) infinite;\n",
              "  }\n",
              "\n",
              "  @keyframes spin {\n",
              "    0% {\n",
              "      border-color: transparent;\n",
              "      border-bottom-color: var(--fill-color);\n",
              "      border-left-color: var(--fill-color);\n",
              "    }\n",
              "    20% {\n",
              "      border-color: transparent;\n",
              "      border-left-color: var(--fill-color);\n",
              "      border-top-color: var(--fill-color);\n",
              "    }\n",
              "    30% {\n",
              "      border-color: transparent;\n",
              "      border-left-color: var(--fill-color);\n",
              "      border-top-color: var(--fill-color);\n",
              "      border-right-color: var(--fill-color);\n",
              "    }\n",
              "    40% {\n",
              "      border-color: transparent;\n",
              "      border-right-color: var(--fill-color);\n",
              "      border-top-color: var(--fill-color);\n",
              "    }\n",
              "    60% {\n",
              "      border-color: transparent;\n",
              "      border-right-color: var(--fill-color);\n",
              "    }\n",
              "    80% {\n",
              "      border-color: transparent;\n",
              "      border-right-color: var(--fill-color);\n",
              "      border-bottom-color: var(--fill-color);\n",
              "    }\n",
              "    90% {\n",
              "      border-color: transparent;\n",
              "      border-bottom-color: var(--fill-color);\n",
              "    }\n",
              "  }\n",
              "</style>\n",
              "\n",
              "  <script>\n",
              "    async function quickchart(key) {\n",
              "      const quickchartButtonEl =\n",
              "        document.querySelector('#' + key + ' button');\n",
              "      quickchartButtonEl.disabled = true;  // To prevent multiple clicks.\n",
              "      quickchartButtonEl.classList.add('colab-df-spinner');\n",
              "      try {\n",
              "        const charts = await google.colab.kernel.invokeFunction(\n",
              "            'suggestCharts', [key], {});\n",
              "      } catch (error) {\n",
              "        console.error('Error during call to suggestCharts:', error);\n",
              "      }\n",
              "      quickchartButtonEl.classList.remove('colab-df-spinner');\n",
              "      quickchartButtonEl.classList.add('colab-df-quickchart-complete');\n",
              "    }\n",
              "    (() => {\n",
              "      let quickchartButtonEl =\n",
              "        document.querySelector('#df-bc5db14b-4f8c-4275-979b-4ae7ff1b551d button');\n",
              "      quickchartButtonEl.style.display =\n",
              "        google.colab.kernel.accessAllowed ? 'block' : 'none';\n",
              "    })();\n",
              "  </script>\n",
              "</div>\n",
              "    </div>\n",
              "  </div>\n"
            ]
          },
          "metadata": {},
          "execution_count": 19
        }
      ],
      "source": [
        "# описание датасета с целевыми переменными\n",
        "Y.describe()"
      ]
    },
    {
      "cell_type": "code",
      "execution_count": 20,
      "metadata": {
        "id": "epHCqwQztpbN"
      },
      "outputs": [],
      "source": [
        "# Нормализация данных\n",
        "scaler = MinMaxScaler()\n",
        "X_scaled = scaler.fit_transform(X)\n",
        "Y_scaled = scaler.fit_transform(Y)"
      ]
    },
    {
      "cell_type": "code",
      "execution_count": 21,
      "metadata": {
        "colab": {
          "base_uri": "https://localhost:8080/"
        },
        "id": "R8ZlwVWXtpbN",
        "outputId": "0cb7f24a-280d-4b0a-8bc1-8c37c82ee59b"
      },
      "outputs": [
        {
          "output_type": "execute_result",
          "data": {
            "text/plain": [
              "array([[0.66666667, 0.42105263, 0.        , 0.4       ],\n",
              "       [0.66666667, 0.42105263, 0.        , 0.4       ],\n",
              "       [0.66666667, 0.42105263, 0.        , 0.4       ],\n",
              "       [0.66666667, 0.42105263, 0.        , 0.4       ],\n",
              "       [0.33333333, 0.47368421, 0.        , 0.4       ]])"
            ]
          },
          "metadata": {},
          "execution_count": 21
        }
      ],
      "source": [
        "# Проверка нормализации\n",
        "X_scaled[:5]"
      ]
    },
    {
      "cell_type": "code",
      "execution_count": 22,
      "metadata": {
        "colab": {
          "base_uri": "https://localhost:8080/"
        },
        "id": "TkdmfmiPtpbN",
        "outputId": "bb50f963-c8f8-4670-b24f-5f59cbea384a"
      },
      "outputs": [
        {
          "output_type": "execute_result",
          "data": {
            "text/plain": [
              "array([[0.93478261, 0.83333333],\n",
              "       [0.89130435, 0.85416667],\n",
              "       [1.        , 0.91666667],\n",
              "       [0.91304348, 0.8125    ],\n",
              "       [0.86956522, 1.        ]])"
            ]
          },
          "metadata": {},
          "execution_count": 22
        }
      ],
      "source": [
        "Y_scaled[:5]"
      ]
    },
    {
      "cell_type": "code",
      "execution_count": 23,
      "metadata": {
        "id": "21fpJf6MtpbN"
      },
      "outputs": [],
      "source": [
        "# Разделение выборки на тренировочную и тестовую\n",
        "X_train, X_test, Y_train, Y_test = train_test_split(X_scaled, Y_scaled, train_size=0.7, test_size=0.3, random_state=0)"
      ]
    },
    {
      "cell_type": "code",
      "execution_count": 24,
      "metadata": {
        "colab": {
          "base_uri": "https://localhost:8080/"
        },
        "id": "xmimfgWjtpbN",
        "outputId": "79351362-1a53-4d4c-8201-81647a1597bb"
      },
      "outputs": [
        {
          "output_type": "execute_result",
          "data": {
            "text/plain": [
              "((50, 4), (50, 2), (22, 2), (22, 4))"
            ]
          },
          "metadata": {},
          "execution_count": 24
        }
      ],
      "source": [
        "# Проверка размерности\n",
        "X_train.shape, Y_train.shape, Y_test.shape, X_test.shape"
      ]
    },
    {
      "cell_type": "code",
      "execution_count": 25,
      "metadata": {
        "id": "7W3Gj1-6tpbN"
      },
      "outputs": [],
      "source": [
        "# функция обучения модели\n",
        "def get_fit (X, Y, model):\n",
        "    model.fit(X,Y)\n",
        "    Y_pred = model.predict(X_test)\n",
        "    return Y_pred"
      ]
    },
    {
      "cell_type": "code",
      "execution_count": 26,
      "metadata": {
        "id": "xllhBCIatpbN"
      },
      "outputs": [],
      "source": [
        "# функция отрисовки графика отклонений предсказанных данных от тестовых\n",
        "def get_plt (test, pred):\n",
        "    plt.scatter(test, pred)\n",
        "    plt.xlabel('test')\n",
        "    plt.ylabel('pred')\n",
        "    plt.show()"
      ]
    },
    {
      "cell_type": "code",
      "execution_count": 27,
      "metadata": {
        "id": "QfLjG_YhtpbO"
      },
      "outputs": [],
      "source": [
        "# оценка модели\n",
        "model_e = dict()\n",
        "def get_e (Y_test, Y_pred):\n",
        "    MAE = mean_absolute_error(Y_test, Y_pred, multioutput='raw_values')\n",
        "    MSE = mean_squared_error(Y_test, Y_pred, multioutput='raw_values')\n",
        "    RMSE = np.sqrt(MSE)\n",
        "    r2 = r2_score(Y_test, Y_pred, multioutput='raw_values')\n",
        "    print (\"MAE:\", MAE, \"MSE:\", MSE, \"RMSE:\", RMSE, \"R2:\", r2)\n",
        "    return MAE, MSE, RMSE, r2"
      ]
    },
    {
      "cell_type": "code",
      "execution_count": 28,
      "metadata": {
        "id": "03fHjLnhtpbO"
      },
      "outputs": [],
      "source": [
        "# функция сравнения результатов\n",
        "dataframes = []\n",
        "def get_best_model():\n",
        "    for model,e in model_e.items():\n",
        "        dataframes.append(pd.DataFrame({\n",
        "                                       'Model': model,\n",
        "                                       'MAE': e[0],\n",
        "                                       'MSE': e[1],\n",
        "                                       'RMSE': e[2],\n",
        "                                       'R2': e[3],\n",
        "        }, index=[\"width\", \"depth\"]))\n",
        "    results = pd.DataFrame()\n",
        "    for dataframe in dataframes:\n",
        "        results = pd.concat([results, dataframe])\n",
        "    results = results [['Model', 'MAE', 'MSE', 'RMSE', 'R2']]\n",
        "    results_sorted = results.sort_values (by = ['R2', 'MAE'], ascending = [ False , True ])\n",
        "    width_best = results_sorted.loc['width']\n",
        "    depth_best = results_sorted.loc['depth']\n",
        "    print(\"width_best:\", width_best.iloc[0])\n",
        "    print(\"depth_best:\", depth_best.iloc[0])\n",
        "    return results_sorted"
      ]
    },
    {
      "cell_type": "markdown",
      "metadata": {
        "id": "KvE_A4PftpbO"
      },
      "source": [
        "# Создание и обучение моделей"
      ]
    },
    {
      "cell_type": "markdown",
      "metadata": {
        "id": "FITIg-44tpbO"
      },
      "source": [
        "### Линейна регрессия"
      ]
    },
    {
      "cell_type": "code",
      "execution_count": 29,
      "metadata": {
        "id": "n9QzNgcqtpbO"
      },
      "outputs": [],
      "source": [
        "LinR = LinearRegression()"
      ]
    },
    {
      "cell_type": "code",
      "execution_count": 30,
      "metadata": {
        "colab": {
          "base_uri": "https://localhost:8080/",
          "height": 449
        },
        "id": "YmwJaimEtpbO",
        "outputId": "7a2ac441-d47f-4851-8d8e-22077bf08624"
      },
      "outputs": [
        {
          "output_type": "display_data",
          "data": {
            "text/plain": [
              "<Figure size 640x480 with 1 Axes>"
            ],
            "image/png": "[encoded data removed]"
          },
          "metadata": {}
        }
      ],
      "source": [
        "get_plt(Y_test, get_fit(X_train, Y_train, LinR))"
      ]
    },
    {
      "cell_type": "code",
      "execution_count": 31,
      "metadata": {
        "colab": {
          "base_uri": "https://localhost:8080/"
        },
        "id": "LYqflB9ptpbO",
        "outputId": "cb412a89-9888-440f-903c-3bf83f9cf563"
      },
      "outputs": [
        {
          "output_type": "stream",
          "name": "stdout",
          "text": [
            "MAE: [0.07476751 0.10185822] MSE: [0.00781705 0.01892668] RMSE: [0.08841406 0.13757428] R2: [0.92539716 0.62138624]\n"
          ]
        }
      ],
      "source": [
        "e1 = get_e(Y_test, get_fit(X_train, Y_train, LinR))"
      ]
    },
    {
      "cell_type": "code",
      "execution_count": 32,
      "metadata": {
        "id": "k4PAR5lDtpbP"
      },
      "outputs": [],
      "source": [
        "model_e['LinR'] = e1"
      ]
    },
    {
      "cell_type": "markdown",
      "metadata": {
        "id": "855ezkkRtpbP"
      },
      "source": [
        "### Метод к ближайших соседей"
      ]
    },
    {
      "cell_type": "code",
      "execution_count": 33,
      "metadata": {
        "id": "u4yuGzP8tpbP"
      },
      "outputs": [],
      "source": [
        "knn = KNeighborsRegressor()"
      ]
    },
    {
      "cell_type": "code",
      "execution_count": 34,
      "metadata": {
        "colab": {
          "base_uri": "https://localhost:8080/",
          "height": 449
        },
        "id": "8wwqFI41tpbP",
        "outputId": "2a3ac47c-8264-46b5-ad52-44d88496bcf8"
      },
      "outputs": [
        {
          "output_type": "display_data",
          "data": {
            "text/plain": [
              "<Figure size 640x480 with 1 Axes>"
            ],
            "image/png": "[encoded data removed]"
          },
          "metadata": {}
        }
      ],
      "source": [
        "get_plt(Y_test, get_fit(X_train, Y_train, knn))"
      ]
    },
    {
      "cell_type": "code",
      "execution_count": 35,
      "metadata": {
        "colab": {
          "base_uri": "https://localhost:8080/"
        },
        "id": "LeztND8Etpbc",
        "outputId": "75bd2501-6042-48ca-f875-d12b28f0520f"
      },
      "outputs": [
        {
          "output_type": "stream",
          "name": "stdout",
          "text": [
            "MAE: [0.06057312 0.06666667] MSE: [0.00714835 0.00873264] RMSE: [0.08454792 0.09344859] R2: [0.93177893 0.82531025]\n"
          ]
        }
      ],
      "source": [
        "e2 = get_e(Y_test, get_fit(X_train, Y_train, knn))"
      ]
    },
    {
      "cell_type": "code",
      "execution_count": 36,
      "metadata": {
        "id": "NEAx6nWdtpbd"
      },
      "outputs": [],
      "source": [
        "model_e['knn'] = e2"
      ]
    },
    {
      "cell_type": "code",
      "execution_count": 37,
      "metadata": {
        "id": "e7GDXc7rtpbd"
      },
      "outputs": [],
      "source": [
        "# Подбор параметра: количество соседей\n",
        "errors = []\n",
        "\n",
        "for i in range(1, 10):\n",
        "    knn = KNeighborsRegressor(n_neighbors=i)\n",
        "    knn.fit(X_train, Y_train)\n",
        "    Y_pred_knn = knn.predict(X_test)\n",
        "\n",
        "    e = np.sqrt(mean_squared_error(Y_test, Y_pred_knn))\n",
        "    errors.append(e)"
      ]
    },
    {
      "cell_type": "code",
      "execution_count": 38,
      "metadata": {
        "colab": {
          "base_uri": "https://localhost:8080/",
          "height": 453
        },
        "id": "6Nf_-0_Gtpbd",
        "outputId": "2822cef6-3542-4879-e314-0043a7bf5250"
      },
      "outputs": [
        {
          "output_type": "execute_result",
          "data": {
            "text/plain": [
              "[<matplotlib.lines.Line2D at 0x7cfe5c07c100>]"
            ]
          },
          "metadata": {},
          "execution_count": 38
        },
        {
          "output_type": "display_data",
          "data": {
            "text/plain": [
              "<Figure size 640x480 with 1 Axes>"
            ],
            "image/png": "[encoded data removed]"
          },
          "metadata": {}
        }
      ],
      "source": [
        "plt.plot([i for i in range(1, 10)], errors)"
      ]
    },
    {
      "cell_type": "code",
      "execution_count": 39,
      "metadata": {
        "id": "4-enOnCJtpbd"
      },
      "outputs": [],
      "source": [
        "knn_neighbors = KNeighborsRegressor(n_neighbors=3)"
      ]
    },
    {
      "cell_type": "code",
      "execution_count": 40,
      "metadata": {
        "colab": {
          "base_uri": "https://localhost:8080/",
          "height": 449
        },
        "id": "AfCYqXhgtpbd",
        "outputId": "4900005e-cee2-4c6c-d38e-09403e215ae0"
      },
      "outputs": [
        {
          "output_type": "display_data",
          "data": {
            "text/plain": [
              "<Figure size 640x480 with 1 Axes>"
            ],
            "image/png": "[encoded data removed]"
          },
          "metadata": {}
        }
      ],
      "source": [
        "get_plt(Y_test, get_fit(X_train, Y_train, knn_neighbors))"
      ]
    },
    {
      "cell_type": "code",
      "execution_count": 41,
      "metadata": {
        "colab": {
          "base_uri": "https://localhost:8080/"
        },
        "id": "ljC5eB_ktpbd",
        "outputId": "61102437-f41e-4259-c7bb-4da830745c9d"
      },
      "outputs": [
        {
          "output_type": "stream",
          "name": "stdout",
          "text": [
            "MAE: [0.05385375 0.05618687] MSE: [0.00493892 0.0063482 ] RMSE: [0.07027746 0.07967562] R2: [0.95286486 0.87300904]\n"
          ]
        }
      ],
      "source": [
        "e3 = get_e(Y_test, get_fit(X_train, Y_train, knn_neighbors))"
      ]
    },
    {
      "cell_type": "code",
      "execution_count": 42,
      "metadata": {
        "id": "iDfwF4Ehtpbd"
      },
      "outputs": [],
      "source": [
        "model_e['knn_neighbors'] = e3"
      ]
    },
    {
      "cell_type": "code",
      "execution_count": null,
      "metadata": {
        "id": "uM1GwF4otpbd"
      },
      "outputs": [],
      "source": [
        "# кросс валидация и перекрестная проверка, подбор оптимальных гиперпараметров"
      ]
    },
    {
      "cell_type": "code",
      "execution_count": 43,
      "metadata": {
        "colab": {
          "base_uri": "https://localhost:8080/"
        },
        "id": "yV0GdaWUtpbe",
        "outputId": "b9b9c64e-7867-4117-8463-f2a15e83f33e"
      },
      "outputs": [
        {
          "output_type": "stream",
          "name": "stdout",
          "text": [
            "{'n_neighbors': [1, 2, 3, 4, 5, 6, 7, 8, 9], 'weights': ['uniform', 'distance'], 'p': [1, 2]}\n"
          ]
        }
      ],
      "source": [
        "n_neighbors = list(range(1, 10))\n",
        "p = [1, 2]\n",
        "weights = [\"uniform\", \"distance\"]\n",
        "\n",
        "hyperparameters = dict(n_neighbors=n_neighbors, weights=weights, p=p)\n",
        "print(hyperparameters)"
      ]
    },
    {
      "cell_type": "code",
      "execution_count": 44,
      "metadata": {
        "id": "tPm2ui9Vtpbe"
      },
      "outputs": [],
      "source": [
        "search = GridSearchCV(knn, hyperparameters, cv=3)"
      ]
    },
    {
      "cell_type": "code",
      "execution_count": 45,
      "metadata": {
        "id": "5XFRn-lwtpbe"
      },
      "outputs": [],
      "source": [
        "best_model = search.fit(X_train, Y_train)"
      ]
    },
    {
      "cell_type": "code",
      "execution_count": null,
      "metadata": {
        "id": "peQDI0Gytpbe",
        "outputId": "31e9fb35-8fa5-4897-cf7f-9a8cd840af43"
      },
      "outputs": [
        {
          "data": {
            "text/plain": [
              "KNeighborsRegressor(algorithm='auto', leaf_size=30, metric='minkowski',\n",
              "          metric_params=None, n_jobs=None, n_neighbors=7, p=2,\n",
              "          weights='distance')"
            ]
          },
          "execution_count": 175,
          "metadata": {},
          "output_type": "execute_result"
        }
      ],
      "source": [
        "best_model.best_estimator_"
      ]
    },
    {
      "cell_type": "code",
      "execution_count": null,
      "metadata": {
        "id": "2NaFHag4tpbe",
        "outputId": "758326e6-82ad-4abf-8a32-1efab8a4af60"
      },
      "outputs": [
        {
          "name": "stdout",
          "output_type": "stream",
          "text": [
            "Fitting 5 folds for each of 36 candidates, totalling 180 fits\n",
            "[CV] n_neighbors=1, weights=uniform, p=1 .............................\n",
            "[CV] .............. n_neighbors=1, weights=uniform, p=1, total=   0.0s\n",
            "[CV] n_neighbors=1, weights=uniform, p=1 .............................\n",
            "[CV] .............. n_neighbors=1, weights=uniform, p=1, total=   0.0s\n",
            "[CV] n_neighbors=1, weights=uniform, p=1 .............................\n",
            "[CV] .............. n_neighbors=1, weights=uniform, p=1, total=   0.0s\n",
            "[CV] n_neighbors=1, weights=uniform, p=1 .............................\n",
            "[CV] .............. n_neighbors=1, weights=uniform, p=1, total=   0.0s\n",
            "[CV] n_neighbors=1, weights=uniform, p=1 .............................\n",
            "[CV] .............. n_neighbors=1, weights=uniform, p=1, total=   0.0s\n",
            "[CV] n_neighbors=1, weights=distance, p=1 ............................\n",
            "[CV] ............. n_neighbors=1, weights=distance, p=1, total=   0.0s\n",
            "[CV] n_neighbors=1, weights=distance, p=1 ............................\n",
            "[CV] ............. n_neighbors=1, weights=distance, p=1, total=   0.0s\n",
            "[CV] n_neighbors=1, weights=distance, p=1 ............................\n",
            "[CV] ............. n_neighbors=1, weights=distance, p=1, total=   0.0s\n",
            "[CV] n_neighbors=1, weights=distance, p=1 ............................\n",
            "[CV] ............. n_neighbors=1, weights=distance, p=1, total=   0.0s\n",
            "[CV] n_neighbors=1, weights=distance, p=1 ............................\n",
            "[CV] ............. n_neighbors=1, weights=distance, p=1, total=   0.0s\n",
            "[CV] n_neighbors=1, weights=uniform, p=2 .............................\n",
            "[CV] .............. n_neighbors=1, weights=uniform, p=2, total=   0.0s\n",
            "[CV] n_neighbors=1, weights=uniform, p=2 .............................\n",
            "[CV] .............. n_neighbors=1, weights=uniform, p=2, total=   0.0s\n",
            "[CV] n_neighbors=1, weights=uniform, p=2 .............................\n",
            "[CV] .............. n_neighbors=1, weights=uniform, p=2, total=   0.0s\n",
            "[CV] n_neighbors=1, weights=uniform, p=2 .............................\n",
            "[CV] .............. n_neighbors=1, weights=uniform, p=2, total=   0.0s\n",
            "[CV] n_neighbors=1, weights=uniform, p=2 .............................\n",
            "[CV] .............. n_neighbors=1, weights=uniform, p=2, total=   0.0s\n",
            "[CV] n_neighbors=1, weights=distance, p=2 ............................\n",
            "[CV] ............. n_neighbors=1, weights=distance, p=2, total=   0.0s\n",
            "[CV] n_neighbors=1, weights=distance, p=2 ............................\n",
            "[CV] ............. n_neighbors=1, weights=distance, p=2, total=   0.0s\n",
            "[CV] n_neighbors=1, weights=distance, p=2 ............................\n",
            "[CV] ............. n_neighbors=1, weights=distance, p=2, total=   0.0s\n",
            "[CV] n_neighbors=1, weights=distance, p=2 ............................\n",
            "[CV] ............. n_neighbors=1, weights=distance, p=2, total=   0.0s\n",
            "[CV] n_neighbors=1, weights=distance, p=2 ............................\n",
            "[CV] ............. n_neighbors=1, weights=distance, p=2, total=   0.0s\n",
            "[CV] n_neighbors=2, weights=uniform, p=1 .............................\n",
            "[CV] .............. n_neighbors=2, weights=uniform, p=1, total=   0.0s\n",
            "[CV] n_neighbors=2, weights=uniform, p=1 .............................\n",
            "[CV] .............. n_neighbors=2, weights=uniform, p=1, total=   0.0s\n",
            "[CV] n_neighbors=2, weights=uniform, p=1 .............................\n",
            "[CV] .............. n_neighbors=2, weights=uniform, p=1, total=   0.0s\n",
            "[CV] n_neighbors=2, weights=uniform, p=1 .............................\n",
            "[CV] .............. n_neighbors=2, weights=uniform, p=1, total=   0.0s\n",
            "[CV] n_neighbors=2, weights=uniform, p=1 .............................\n",
            "[CV] .............. n_neighbors=2, weights=uniform, p=1, total=   0.0s\n",
            "[CV] n_neighbors=2, weights=distance, p=1 ............................\n",
            "[CV] ............. n_neighbors=2, weights=distance, p=1, total=   0.0s\n",
            "[CV] n_neighbors=2, weights=distance, p=1 ............................\n",
            "[CV] ............. n_neighbors=2, weights=distance, p=1, total=   0.0s\n",
            "[CV] n_neighbors=2, weights=distance, p=1 ............................\n",
            "[CV] ............. n_neighbors=2, weights=distance, p=1, total=   0.0s\n",
            "[CV] n_neighbors=2, weights=distance, p=1 ............................\n",
            "[CV] ............. n_neighbors=2, weights=distance, p=1, total=   0.0s\n",
            "[CV] n_neighbors=2, weights=distance, p=1 ............................\n",
            "[CV] ............. n_neighbors=2, weights=distance, p=1, total=   0.0s\n",
            "[CV] n_neighbors=2, weights=uniform, p=2 .............................\n",
            "[CV] .............. n_neighbors=2, weights=uniform, p=2, total=   0.0s\n",
            "[CV] n_neighbors=2, weights=uniform, p=2 .............................\n",
            "[CV] .............. n_neighbors=2, weights=uniform, p=2, total=   0.0s\n",
            "[CV] n_neighbors=2, weights=uniform, p=2 .............................\n",
            "[CV] .............. n_neighbors=2, weights=uniform, p=2, total=   0.0s\n",
            "[CV] n_neighbors=2, weights=uniform, p=2 .............................\n",
            "[CV] .............. n_neighbors=2, weights=uniform, p=2, total=   0.0s\n",
            "[CV] n_neighbors=2, weights=uniform, p=2 .............................\n",
            "[CV] .............. n_neighbors=2, weights=uniform, p=2, total=   0.0s\n",
            "[CV] n_neighbors=2, weights=distance, p=2 ............................\n"
          ]
        },
        {
          "name": "stderr",
          "output_type": "stream",
          "text": [
            "[Parallel(n_jobs=1)]: Using backend SequentialBackend with 1 concurrent workers.\n",
            "[Parallel(n_jobs=1)]: Done   1 out of   1 | elapsed:    0.0s remaining:    0.0s\n"
          ]
        },
        {
          "name": "stdout",
          "output_type": "stream",
          "text": [
            "[CV] ............. n_neighbors=2, weights=distance, p=2, total=   0.0s\n",
            "[CV] n_neighbors=2, weights=distance, p=2 ............................\n",
            "[CV] ............. n_neighbors=2, weights=distance, p=2, total=   0.0s\n",
            "[CV] n_neighbors=2, weights=distance, p=2 ............................\n",
            "[CV] ............. n_neighbors=2, weights=distance, p=2, total=   0.0s\n",
            "[CV] n_neighbors=2, weights=distance, p=2 ............................\n",
            "[CV] ............. n_neighbors=2, weights=distance, p=2, total=   0.0s\n",
            "[CV] n_neighbors=2, weights=distance, p=2 ............................\n",
            "[CV] ............. n_neighbors=2, weights=distance, p=2, total=   0.0s\n",
            "[CV] n_neighbors=3, weights=uniform, p=1 .............................\n",
            "[CV] .............. n_neighbors=3, weights=uniform, p=1, total=   0.0s\n",
            "[CV] n_neighbors=3, weights=uniform, p=1 .............................\n",
            "[CV] .............. n_neighbors=3, weights=uniform, p=1, total=   0.0s\n",
            "[CV] n_neighbors=3, weights=uniform, p=1 .............................\n",
            "[CV] .............. n_neighbors=3, weights=uniform, p=1, total=   0.0s\n",
            "[CV] n_neighbors=3, weights=uniform, p=1 .............................\n",
            "[CV] .............. n_neighbors=3, weights=uniform, p=1, total=   0.0s\n",
            "[CV] n_neighbors=3, weights=uniform, p=1 .............................\n",
            "[CV] .............. n_neighbors=3, weights=uniform, p=1, total=   0.0s\n",
            "[CV] n_neighbors=3, weights=distance, p=1 ............................\n",
            "[CV] ............. n_neighbors=3, weights=distance, p=1, total=   0.0s\n",
            "[CV] n_neighbors=3, weights=distance, p=1 ............................\n",
            "[CV] ............. n_neighbors=3, weights=distance, p=1, total=   0.0s\n",
            "[CV] n_neighbors=3, weights=distance, p=1 ............................\n",
            "[CV] ............. n_neighbors=3, weights=distance, p=1, total=   0.0s\n",
            "[CV] n_neighbors=3, weights=distance, p=1 ............................\n",
            "[CV] ............. n_neighbors=3, weights=distance, p=1, total=   0.0s\n",
            "[CV] n_neighbors=3, weights=distance, p=1 ............................\n",
            "[CV] ............. n_neighbors=3, weights=distance, p=1, total=   0.0s\n",
            "[CV] n_neighbors=3, weights=uniform, p=2 .............................\n",
            "[CV] .............. n_neighbors=3, weights=uniform, p=2, total=   0.0s\n",
            "[CV] n_neighbors=3, weights=uniform, p=2 .............................\n",
            "[CV] .............. n_neighbors=3, weights=uniform, p=2, total=   0.0s\n",
            "[CV] n_neighbors=3, weights=uniform, p=2 .............................\n",
            "[CV] .............. n_neighbors=3, weights=uniform, p=2, total=   0.0s\n",
            "[CV] n_neighbors=3, weights=uniform, p=2 .............................\n",
            "[CV] .............. n_neighbors=3, weights=uniform, p=2, total=   0.0s\n",
            "[CV] n_neighbors=3, weights=uniform, p=2 .............................\n",
            "[CV] .............. n_neighbors=3, weights=uniform, p=2, total=   0.0s\n",
            "[CV] n_neighbors=3, weights=distance, p=2 ............................\n",
            "[CV] ............. n_neighbors=3, weights=distance, p=2, total=   0.0s\n",
            "[CV] n_neighbors=3, weights=distance, p=2 ............................\n",
            "[CV] ............. n_neighbors=3, weights=distance, p=2, total=   0.0s\n",
            "[CV] n_neighbors=3, weights=distance, p=2 ............................\n",
            "[CV] ............. n_neighbors=3, weights=distance, p=2, total=   0.0s\n",
            "[CV] n_neighbors=3, weights=distance, p=2 ............................\n",
            "[CV] ............. n_neighbors=3, weights=distance, p=2, total=   0.0s\n",
            "[CV] n_neighbors=3, weights=distance, p=2 ............................\n",
            "[CV] ............. n_neighbors=3, weights=distance, p=2, total=   0.0s\n",
            "[CV] n_neighbors=4, weights=uniform, p=1 .............................\n",
            "[CV] .............. n_neighbors=4, weights=uniform, p=1, total=   0.0s\n",
            "[CV] n_neighbors=4, weights=uniform, p=1 .............................\n",
            "[CV] .............. n_neighbors=4, weights=uniform, p=1, total=   0.0s\n",
            "[CV] n_neighbors=4, weights=uniform, p=1 .............................\n",
            "[CV] .............. n_neighbors=4, weights=uniform, p=1, total=   0.0s\n",
            "[CV] n_neighbors=4, weights=uniform, p=1 .............................\n",
            "[CV] .............. n_neighbors=4, weights=uniform, p=1, total=   0.0s\n",
            "[CV] n_neighbors=4, weights=uniform, p=1 .............................\n",
            "[CV] .............. n_neighbors=4, weights=uniform, p=1, total=   0.0s\n",
            "[CV] n_neighbors=4, weights=distance, p=1 ............................\n",
            "[CV] ............. n_neighbors=4, weights=distance, p=1, total=   0.0s\n",
            "[CV] n_neighbors=4, weights=distance, p=1 ............................\n",
            "[CV] ............. n_neighbors=4, weights=distance, p=1, total=   0.0s\n",
            "[CV] n_neighbors=4, weights=distance, p=1 ............................\n",
            "[CV] ............. n_neighbors=4, weights=distance, p=1, total=   0.0s\n",
            "[CV] n_neighbors=4, weights=distance, p=1 ............................\n",
            "[CV] ............. n_neighbors=4, weights=distance, p=1, total=   0.0s\n",
            "[CV] n_neighbors=4, weights=distance, p=1 ............................\n",
            "[CV] ............. n_neighbors=4, weights=distance, p=1, total=   0.0s\n",
            "[CV] n_neighbors=4, weights=uniform, p=2 .............................\n",
            "[CV] .............. n_neighbors=4, weights=uniform, p=2, total=   0.0s\n",
            "[CV] n_neighbors=4, weights=uniform, p=2 .............................\n",
            "[CV] .............. n_neighbors=4, weights=uniform, p=2, total=   0.0s\n",
            "[CV] n_neighbors=4, weights=uniform, p=2 .............................\n",
            "[CV] .............. n_neighbors=4, weights=uniform, p=2, total=   0.0s\n",
            "[CV] n_neighbors=4, weights=uniform, p=2 .............................\n",
            "[CV] .............. n_neighbors=4, weights=uniform, p=2, total=   0.0s\n",
            "[CV] n_neighbors=4, weights=uniform, p=2 .............................\n",
            "[CV] .............. n_neighbors=4, weights=uniform, p=2, total=   0.0s\n",
            "[CV] n_neighbors=4, weights=distance, p=2 ............................\n",
            "[CV] ............. n_neighbors=4, weights=distance, p=2, total=   0.0s\n",
            "[CV] n_neighbors=4, weights=distance, p=2 ............................\n",
            "[CV] ............. n_neighbors=4, weights=distance, p=2, total=   0.0s\n",
            "[CV] n_neighbors=4, weights=distance, p=2 ............................\n",
            "[CV] ............. n_neighbors=4, weights=distance, p=2, total=   0.0s\n",
            "[CV] n_neighbors=4, weights=distance, p=2 ............................\n",
            "[CV] ............. n_neighbors=4, weights=distance, p=2, total=   0.0s\n",
            "[CV] n_neighbors=4, weights=distance, p=2 ............................\n",
            "[CV] ............. n_neighbors=4, weights=distance, p=2, total=   0.0s\n",
            "[CV] n_neighbors=5, weights=uniform, p=1 .............................\n",
            "[CV] .............. n_neighbors=5, weights=uniform, p=1, total=   0.0s\n",
            "[CV] n_neighbors=5, weights=uniform, p=1 .............................\n",
            "[CV] .............. n_neighbors=5, weights=uniform, p=1, total=   0.0s\n",
            "[CV] n_neighbors=5, weights=uniform, p=1 .............................\n",
            "[CV] .............. n_neighbors=5, weights=uniform, p=1, total=   0.0s\n",
            "[CV] n_neighbors=5, weights=uniform, p=1 .............................\n",
            "[CV] .............. n_neighbors=5, weights=uniform, p=1, total=   0.0s\n",
            "[CV] n_neighbors=5, weights=uniform, p=1 .............................\n",
            "[CV] .............. n_neighbors=5, weights=uniform, p=1, total=   0.0s\n",
            "[CV] n_neighbors=5, weights=distance, p=1 ............................\n",
            "[CV] ............. n_neighbors=5, weights=distance, p=1, total=   0.0s\n",
            "[CV] n_neighbors=5, weights=distance, p=1 ............................\n",
            "[CV] ............. n_neighbors=5, weights=distance, p=1, total=   0.0s\n",
            "[CV] n_neighbors=5, weights=distance, p=1 ............................\n",
            "[CV] ............. n_neighbors=5, weights=distance, p=1, total=   0.0s\n",
            "[CV] n_neighbors=5, weights=distance, p=1 ............................\n",
            "[CV] ............. n_neighbors=5, weights=distance, p=1, total=   0.0s\n",
            "[CV] n_neighbors=5, weights=distance, p=1 ............................\n",
            "[CV] ............. n_neighbors=5, weights=distance, p=1, total=   0.0s\n",
            "[CV] n_neighbors=5, weights=uniform, p=2 .............................\n",
            "[CV] .............. n_neighbors=5, weights=uniform, p=2, total=   0.0s\n",
            "[CV] n_neighbors=5, weights=uniform, p=2 .............................\n",
            "[CV] .............. n_neighbors=5, weights=uniform, p=2, total=   0.0s\n",
            "[CV] n_neighbors=5, weights=uniform, p=2 .............................\n",
            "[CV] .............. n_neighbors=5, weights=uniform, p=2, total=   0.0s\n",
            "[CV] n_neighbors=5, weights=uniform, p=2 .............................\n",
            "[CV] .............. n_neighbors=5, weights=uniform, p=2, total=   0.0s\n",
            "[CV] n_neighbors=5, weights=uniform, p=2 .............................\n",
            "[CV] .............. n_neighbors=5, weights=uniform, p=2, total=   0.0s\n",
            "[CV] n_neighbors=5, weights=distance, p=2 ............................\n",
            "[CV] ............. n_neighbors=5, weights=distance, p=2, total=   0.0s\n",
            "[CV] n_neighbors=5, weights=distance, p=2 ............................\n",
            "[CV] ............. n_neighbors=5, weights=distance, p=2, total=   0.0s\n",
            "[CV] n_neighbors=5, weights=distance, p=2 ............................\n",
            "[CV] ............. n_neighbors=5, weights=distance, p=2, total=   0.0s\n",
            "[CV] n_neighbors=5, weights=distance, p=2 ............................\n",
            "[CV] ............. n_neighbors=5, weights=distance, p=2, total=   0.0s\n",
            "[CV] n_neighbors=5, weights=distance, p=2 ............................\n",
            "[CV] ............. n_neighbors=5, weights=distance, p=2, total=   0.0s\n",
            "[CV] n_neighbors=6, weights=uniform, p=1 .............................\n",
            "[CV] .............. n_neighbors=6, weights=uniform, p=1, total=   0.0s\n",
            "[CV] n_neighbors=6, weights=uniform, p=1 .............................\n",
            "[CV] .............. n_neighbors=6, weights=uniform, p=1, total=   0.0s\n",
            "[CV] n_neighbors=6, weights=uniform, p=1 .............................\n",
            "[CV] .............. n_neighbors=6, weights=uniform, p=1, total=   0.0s\n",
            "[CV] n_neighbors=6, weights=uniform, p=1 .............................\n",
            "[CV] .............. n_neighbors=6, weights=uniform, p=1, total=   0.0s\n",
            "[CV] n_neighbors=6, weights=uniform, p=1 .............................\n",
            "[CV] .............. n_neighbors=6, weights=uniform, p=1, total=   0.0s\n",
            "[CV] n_neighbors=6, weights=distance, p=1 ............................\n",
            "[CV] ............. n_neighbors=6, weights=distance, p=1, total=   0.0s\n",
            "[CV] n_neighbors=6, weights=distance, p=1 ............................\n",
            "[CV] ............. n_neighbors=6, weights=distance, p=1, total=   0.0s\n",
            "[CV] n_neighbors=6, weights=distance, p=1 ............................\n",
            "[CV] ............. n_neighbors=6, weights=distance, p=1, total=   0.0s\n",
            "[CV] n_neighbors=6, weights=distance, p=1 ............................\n",
            "[CV] ............. n_neighbors=6, weights=distance, p=1, total=   0.0s\n",
            "[CV] n_neighbors=6, weights=distance, p=1 ............................\n",
            "[CV] ............. n_neighbors=6, weights=distance, p=1, total=   0.0s\n",
            "[CV] n_neighbors=6, weights=uniform, p=2 .............................\n",
            "[CV] .............. n_neighbors=6, weights=uniform, p=2, total=   0.0s\n",
            "[CV] n_neighbors=6, weights=uniform, p=2 .............................\n",
            "[CV] .............. n_neighbors=6, weights=uniform, p=2, total=   0.0s\n",
            "[CV] n_neighbors=6, weights=uniform, p=2 .............................\n",
            "[CV] .............. n_neighbors=6, weights=uniform, p=2, total=   0.0s\n",
            "[CV] n_neighbors=6, weights=uniform, p=2 .............................\n",
            "[CV] .............. n_neighbors=6, weights=uniform, p=2, total=   0.0s\n",
            "[CV] n_neighbors=6, weights=uniform, p=2 .............................\n",
            "[CV] .............. n_neighbors=6, weights=uniform, p=2, total=   0.0s\n",
            "[CV] n_neighbors=6, weights=distance, p=2 ............................\n",
            "[CV] ............. n_neighbors=6, weights=distance, p=2, total=   0.0s\n",
            "[CV] n_neighbors=6, weights=distance, p=2 ............................\n",
            "[CV] ............. n_neighbors=6, weights=distance, p=2, total=   0.0s\n",
            "[CV] n_neighbors=6, weights=distance, p=2 ............................\n",
            "[CV] ............. n_neighbors=6, weights=distance, p=2, total=   0.0s\n",
            "[CV] n_neighbors=6, weights=distance, p=2 ............................\n",
            "[CV] ............. n_neighbors=6, weights=distance, p=2, total=   0.0s\n",
            "[CV] n_neighbors=6, weights=distance, p=2 ............................\n",
            "[CV] ............. n_neighbors=6, weights=distance, p=2, total=   0.0s\n",
            "[CV] n_neighbors=7, weights=uniform, p=1 .............................\n",
            "[CV] .............. n_neighbors=7, weights=uniform, p=1, total=   0.0s\n",
            "[CV] n_neighbors=7, weights=uniform, p=1 .............................\n",
            "[CV] .............. n_neighbors=7, weights=uniform, p=1, total=   0.0s\n",
            "[CV] n_neighbors=7, weights=uniform, p=1 .............................\n",
            "[CV] .............. n_neighbors=7, weights=uniform, p=1, total=   0.0s\n",
            "[CV] n_neighbors=7, weights=uniform, p=1 .............................\n",
            "[CV] .............. n_neighbors=7, weights=uniform, p=1, total=   0.0s\n",
            "[CV] n_neighbors=7, weights=uniform, p=1 .............................\n",
            "[CV] .............. n_neighbors=7, weights=uniform, p=1, total=   0.0s\n"
          ]
        },
        {
          "name": "stdout",
          "output_type": "stream",
          "text": [
            "[CV] n_neighbors=7, weights=distance, p=1 ............................\n",
            "[CV] ............. n_neighbors=7, weights=distance, p=1, total=   0.0s\n",
            "[CV] n_neighbors=7, weights=distance, p=1 ............................\n",
            "[CV] ............. n_neighbors=7, weights=distance, p=1, total=   0.0s\n",
            "[CV] n_neighbors=7, weights=distance, p=1 ............................\n",
            "[CV] ............. n_neighbors=7, weights=distance, p=1, total=   0.0s\n",
            "[CV] n_neighbors=7, weights=distance, p=1 ............................\n",
            "[CV] ............. n_neighbors=7, weights=distance, p=1, total=   0.0s\n",
            "[CV] n_neighbors=7, weights=distance, p=1 ............................\n",
            "[CV] ............. n_neighbors=7, weights=distance, p=1, total=   0.0s\n",
            "[CV] n_neighbors=7, weights=uniform, p=2 .............................\n",
            "[CV] .............. n_neighbors=7, weights=uniform, p=2, total=   0.0s\n",
            "[CV] n_neighbors=7, weights=uniform, p=2 .............................\n",
            "[CV] .............. n_neighbors=7, weights=uniform, p=2, total=   0.0s\n",
            "[CV] n_neighbors=7, weights=uniform, p=2 .............................\n",
            "[CV] .............. n_neighbors=7, weights=uniform, p=2, total=   0.0s\n",
            "[CV] n_neighbors=7, weights=uniform, p=2 .............................\n",
            "[CV] .............. n_neighbors=7, weights=uniform, p=2, total=   0.0s\n",
            "[CV] n_neighbors=7, weights=uniform, p=2 .............................\n",
            "[CV] .............. n_neighbors=7, weights=uniform, p=2, total=   0.0s\n",
            "[CV] n_neighbors=7, weights=distance, p=2 ............................\n",
            "[CV] ............. n_neighbors=7, weights=distance, p=2, total=   0.0s\n",
            "[CV] n_neighbors=7, weights=distance, p=2 ............................\n",
            "[CV] ............. n_neighbors=7, weights=distance, p=2, total=   0.0s\n",
            "[CV] n_neighbors=7, weights=distance, p=2 ............................\n",
            "[CV] ............. n_neighbors=7, weights=distance, p=2, total=   0.0s\n",
            "[CV] n_neighbors=7, weights=distance, p=2 ............................\n",
            "[CV] ............. n_neighbors=7, weights=distance, p=2, total=   0.0s\n",
            "[CV] n_neighbors=7, weights=distance, p=2 ............................\n",
            "[CV] ............. n_neighbors=7, weights=distance, p=2, total=   0.0s\n",
            "[CV] n_neighbors=8, weights=uniform, p=1 .............................\n",
            "[CV] .............. n_neighbors=8, weights=uniform, p=1, total=   0.0s\n",
            "[CV] n_neighbors=8, weights=uniform, p=1 .............................\n",
            "[CV] .............. n_neighbors=8, weights=uniform, p=1, total=   0.0s\n",
            "[CV] n_neighbors=8, weights=uniform, p=1 .............................\n",
            "[CV] .............. n_neighbors=8, weights=uniform, p=1, total=   0.0s\n",
            "[CV] n_neighbors=8, weights=uniform, p=1 .............................\n",
            "[CV] .............. n_neighbors=8, weights=uniform, p=1, total=   0.0s\n",
            "[CV] n_neighbors=8, weights=uniform, p=1 .............................\n",
            "[CV] .............. n_neighbors=8, weights=uniform, p=1, total=   0.0s\n",
            "[CV] n_neighbors=8, weights=distance, p=1 ............................\n",
            "[CV] ............. n_neighbors=8, weights=distance, p=1, total=   0.0s\n",
            "[CV] n_neighbors=8, weights=distance, p=1 ............................\n",
            "[CV] ............. n_neighbors=8, weights=distance, p=1, total=   0.0s\n",
            "[CV] n_neighbors=8, weights=distance, p=1 ............................\n",
            "[CV] ............. n_neighbors=8, weights=distance, p=1, total=   0.0s\n",
            "[CV] n_neighbors=8, weights=distance, p=1 ............................\n",
            "[CV] ............. n_neighbors=8, weights=distance, p=1, total=   0.0s\n",
            "[CV] n_neighbors=8, weights=distance, p=1 ............................\n",
            "[CV] ............. n_neighbors=8, weights=distance, p=1, total=   0.0s\n",
            "[CV] n_neighbors=8, weights=uniform, p=2 .............................\n",
            "[CV] .............. n_neighbors=8, weights=uniform, p=2, total=   0.0s\n",
            "[CV] n_neighbors=8, weights=uniform, p=2 .............................\n",
            "[CV] .............. n_neighbors=8, weights=uniform, p=2, total=   0.0s\n",
            "[CV] n_neighbors=8, weights=uniform, p=2 .............................\n",
            "[CV] .............. n_neighbors=8, weights=uniform, p=2, total=   0.0s\n",
            "[CV] n_neighbors=8, weights=uniform, p=2 .............................\n",
            "[CV] .............. n_neighbors=8, weights=uniform, p=2, total=   0.0s\n",
            "[CV] n_neighbors=8, weights=uniform, p=2 .............................\n",
            "[CV] .............. n_neighbors=8, weights=uniform, p=2, total=   0.0s\n",
            "[CV] n_neighbors=8, weights=distance, p=2 ............................\n",
            "[CV] ............. n_neighbors=8, weights=distance, p=2, total=   0.0s\n",
            "[CV] n_neighbors=8, weights=distance, p=2 ............................\n",
            "[CV] ............. n_neighbors=8, weights=distance, p=2, total=   0.0s\n",
            "[CV] n_neighbors=8, weights=distance, p=2 ............................\n",
            "[CV] ............. n_neighbors=8, weights=distance, p=2, total=   0.0s\n",
            "[CV] n_neighbors=8, weights=distance, p=2 ............................\n",
            "[CV] ............. n_neighbors=8, weights=distance, p=2, total=   0.0s\n",
            "[CV] n_neighbors=8, weights=distance, p=2 ............................\n",
            "[CV] ............. n_neighbors=8, weights=distance, p=2, total=   0.0s\n",
            "[CV] n_neighbors=9, weights=uniform, p=1 .............................\n",
            "[CV] .............. n_neighbors=9, weights=uniform, p=1, total=   0.0s\n",
            "[CV] n_neighbors=9, weights=uniform, p=1 .............................\n",
            "[CV] .............. n_neighbors=9, weights=uniform, p=1, total=   0.0s\n",
            "[CV] n_neighbors=9, weights=uniform, p=1 .............................\n",
            "[CV] .............. n_neighbors=9, weights=uniform, p=1, total=   0.0s\n",
            "[CV] n_neighbors=9, weights=uniform, p=1 .............................\n",
            "[CV] .............. n_neighbors=9, weights=uniform, p=1, total=   0.0s\n",
            "[CV] n_neighbors=9, weights=uniform, p=1 .............................\n",
            "[CV] .............. n_neighbors=9, weights=uniform, p=1, total=   0.0s\n",
            "[CV] n_neighbors=9, weights=distance, p=1 ............................\n",
            "[CV] ............. n_neighbors=9, weights=distance, p=1, total=   0.0s\n",
            "[CV] n_neighbors=9, weights=distance, p=1 ............................\n",
            "[CV] ............. n_neighbors=9, weights=distance, p=1, total=   0.0s\n",
            "[CV] n_neighbors=9, weights=distance, p=1 ............................\n",
            "[CV] ............. n_neighbors=9, weights=distance, p=1, total=   0.0s\n",
            "[CV] n_neighbors=9, weights=distance, p=1 ............................\n",
            "[CV] ............. n_neighbors=9, weights=distance, p=1, total=   0.0s\n",
            "[CV] n_neighbors=9, weights=distance, p=1 ............................\n",
            "[CV] ............. n_neighbors=9, weights=distance, p=1, total=   0.0s\n",
            "[CV] n_neighbors=9, weights=uniform, p=2 .............................\n",
            "[CV] .............. n_neighbors=9, weights=uniform, p=2, total=   0.0s\n",
            "[CV] n_neighbors=9, weights=uniform, p=2 .............................\n",
            "[CV] .............. n_neighbors=9, weights=uniform, p=2, total=   0.0s\n",
            "[CV] n_neighbors=9, weights=uniform, p=2 .............................\n",
            "[CV] .............. n_neighbors=9, weights=uniform, p=2, total=   0.0s\n",
            "[CV] n_neighbors=9, weights=uniform, p=2 .............................\n",
            "[CV] .............. n_neighbors=9, weights=uniform, p=2, total=   0.0s\n",
            "[CV] n_neighbors=9, weights=uniform, p=2 .............................\n",
            "[CV] .............. n_neighbors=9, weights=uniform, p=2, total=   0.0s\n",
            "[CV] n_neighbors=9, weights=distance, p=2 ............................\n",
            "[CV] ............. n_neighbors=9, weights=distance, p=2, total=   0.0s\n",
            "[CV] n_neighbors=9, weights=distance, p=2 ............................\n",
            "[CV] ............. n_neighbors=9, weights=distance, p=2, total=   0.0s\n",
            "[CV] n_neighbors=9, weights=distance, p=2 ............................\n",
            "[CV] ............. n_neighbors=9, weights=distance, p=2, total=   0.0s\n",
            "[CV] n_neighbors=9, weights=distance, p=2 ............................\n",
            "[CV] ............. n_neighbors=9, weights=distance, p=2, total=   0.0s\n",
            "[CV] n_neighbors=9, weights=distance, p=2 ............................\n",
            "[CV] ............. n_neighbors=9, weights=distance, p=2, total=   0.0s\n"
          ]
        },
        {
          "name": "stderr",
          "output_type": "stream",
          "text": [
            "[Parallel(n_jobs=1)]: Done 180 out of 180 | elapsed:    1.1s finished\n"
          ]
        }
      ],
      "source": [
        "search = GridSearchCV(knn, hyperparameters, cv=5, verbose=2)\n",
        "best_model = search.fit(X_train, Y_train)"
      ]
    },
    {
      "cell_type": "code",
      "execution_count": 46,
      "metadata": {
        "id": "T4lSsdmutpbe"
      },
      "outputs": [],
      "source": [
        "knn_best = best_model.best_estimator_"
      ]
    },
    {
      "cell_type": "code",
      "execution_count": 47,
      "metadata": {
        "colab": {
          "base_uri": "https://localhost:8080/",
          "height": 449
        },
        "id": "YCrVwPVKtpbe",
        "outputId": "45eb89c9-4d00-4431-ea13-98c97264cc47"
      },
      "outputs": [
        {
          "output_type": "display_data",
          "data": {
            "text/plain": [
              "<Figure size 640x480 with 1 Axes>"
            ],
            "image/png": "[encoded data removed]"
          },
          "metadata": {}
        }
      ],
      "source": [
        "get_plt(Y_test, get_fit(X_train, Y_train, knn_best))"
      ]
    },
    {
      "cell_type": "code",
      "execution_count": 48,
      "metadata": {
        "colab": {
          "base_uri": "https://localhost:8080/"
        },
        "id": "KNevkBaAtpbe",
        "outputId": "e9bdb98c-05f9-440b-93e4-492eb0f3a5be"
      },
      "outputs": [
        {
          "output_type": "stream",
          "name": "stdout",
          "text": [
            "MAE: [0.04878129 0.06332071] MSE: [0.00473991 0.00796248] RMSE: [0.06884699 0.08923273] R2: [0.95476416 0.84071668]\n"
          ]
        }
      ],
      "source": [
        "e4 = get_e(Y_test, get_fit(X_train, Y_train, knn_best))"
      ]
    },
    {
      "cell_type": "code",
      "execution_count": 49,
      "metadata": {
        "id": "Fy0-SYx9tpbf"
      },
      "outputs": [],
      "source": [
        "model_e['knn_best'] = e4"
      ]
    },
    {
      "cell_type": "markdown",
      "metadata": {
        "id": "51kZg8Nftpbf"
      },
      "source": [
        "### Дерево решений/ Случайный лес"
      ]
    },
    {
      "cell_type": "code",
      "execution_count": 50,
      "metadata": {
        "colab": {
          "base_uri": "https://localhost:8080/"
        },
        "id": "lxKnKEFntpbf",
        "outputId": "3e5a2faa-c6cb-4bd9-c3b8-c6e60a7391a3"
      },
      "outputs": [
        {
          "output_type": "execute_result",
          "data": {
            "text/plain": [
              "{'n_estimators': [50, 225, 400],\n",
              " 'max_depth': [10, 110, None],\n",
              " 'min_samples_leaf': [1, 4]}"
            ]
          },
          "metadata": {},
          "execution_count": 50
        }
      ],
      "source": [
        "n_estimators = [int(x) for x in np.linspace(start=50, stop=400, num=3)]\n",
        "\n",
        "max_depth = [int(x) for x in np.linspace(10, 110, num=2)]\n",
        "\n",
        "max_depth.append(None)\n",
        "min_samples_leaf = [1, 4]\n",
        "\n",
        "param_grid = {\n",
        "    'n_estimators': n_estimators,\n",
        "    'max_depth': max_depth,\n",
        "    'min_samples_leaf': min_samples_leaf\n",
        "              }\n",
        "param_grid"
      ]
    },
    {
      "cell_type": "code",
      "execution_count": 51,
      "metadata": {
        "id": "kHx9JcJqtpbf"
      },
      "outputs": [],
      "source": [
        "rf = RandomForestRegressor()"
      ]
    },
    {
      "cell_type": "code",
      "execution_count": 52,
      "metadata": {
        "colab": {
          "base_uri": "https://localhost:8080/",
          "height": 1000
        },
        "id": "leXiMOuTtpbf",
        "outputId": "196811bc-8f26-4e84-ecf1-636110adeaba"
      },
      "outputs": [
        {
          "output_type": "stream",
          "name": "stdout",
          "text": [
            "Fitting 3 folds for each of 18 candidates, totalling 54 fits\n",
            "[CV] END ..max_depth=10, min_samples_leaf=1, n_estimators=50; total time=   0.1s\n",
            "[CV] END ..max_depth=10, min_samples_leaf=1, n_estimators=50; total time=   0.1s\n",
            "[CV] END ..max_depth=10, min_samples_leaf=1, n_estimators=50; total time=   0.1s\n",
            "[CV] END .max_depth=10, min_samples_leaf=1, n_estimators=225; total time=   0.3s\n",
            "[CV] END .max_depth=10, min_samples_leaf=1, n_estimators=225; total time=   0.3s\n",
            "[CV] END .max_depth=10, min_samples_leaf=1, n_estimators=225; total time=   0.3s\n",
            "[CV] END .max_depth=10, min_samples_leaf=1, n_estimators=400; total time=   0.8s\n",
            "[CV] END .max_depth=10, min_samples_leaf=1, n_estimators=400; total time=   0.8s\n",
            "[CV] END .max_depth=10, min_samples_leaf=1, n_estimators=400; total time=   0.9s\n",
            "[CV] END ..max_depth=10, min_samples_leaf=4, n_estimators=50; total time=   0.1s\n",
            "[CV] END ..max_depth=10, min_samples_leaf=4, n_estimators=50; total time=   0.1s\n",
            "[CV] END ..max_depth=10, min_samples_leaf=4, n_estimators=50; total time=   0.1s\n",
            "[CV] END .max_depth=10, min_samples_leaf=4, n_estimators=225; total time=   0.3s\n",
            "[CV] END .max_depth=10, min_samples_leaf=4, n_estimators=225; total time=   0.3s\n",
            "[CV] END .max_depth=10, min_samples_leaf=4, n_estimators=225; total time=   0.3s\n",
            "[CV] END .max_depth=10, min_samples_leaf=4, n_estimators=400; total time=   0.4s\n",
            "[CV] END .max_depth=10, min_samples_leaf=4, n_estimators=400; total time=   0.5s\n",
            "[CV] END .max_depth=10, min_samples_leaf=4, n_estimators=400; total time=   0.4s\n",
            "[CV] END .max_depth=110, min_samples_leaf=1, n_estimators=50; total time=   0.1s\n",
            "[CV] END .max_depth=110, min_samples_leaf=1, n_estimators=50; total time=   0.1s\n",
            "[CV] END .max_depth=110, min_samples_leaf=1, n_estimators=50; total time=   0.1s\n",
            "[CV] END max_depth=110, min_samples_leaf=1, n_estimators=225; total time=   0.3s\n",
            "[CV] END max_depth=110, min_samples_leaf=1, n_estimators=225; total time=   0.3s\n",
            "[CV] END max_depth=110, min_samples_leaf=1, n_estimators=225; total time=   0.3s\n",
            "[CV] END max_depth=110, min_samples_leaf=1, n_estimators=400; total time=   0.5s\n",
            "[CV] END max_depth=110, min_samples_leaf=1, n_estimators=400; total time=   0.5s\n",
            "[CV] END max_depth=110, min_samples_leaf=1, n_estimators=400; total time=   0.5s\n",
            "[CV] END .max_depth=110, min_samples_leaf=4, n_estimators=50; total time=   0.1s\n",
            "[CV] END .max_depth=110, min_samples_leaf=4, n_estimators=50; total time=   0.1s\n",
            "[CV] END .max_depth=110, min_samples_leaf=4, n_estimators=50; total time=   0.1s\n",
            "[CV] END max_depth=110, min_samples_leaf=4, n_estimators=225; total time=   0.3s\n",
            "[CV] END max_depth=110, min_samples_leaf=4, n_estimators=225; total time=   0.3s\n",
            "[CV] END max_depth=110, min_samples_leaf=4, n_estimators=225; total time=   0.3s\n",
            "[CV] END max_depth=110, min_samples_leaf=4, n_estimators=400; total time=   0.5s\n",
            "[CV] END max_depth=110, min_samples_leaf=4, n_estimators=400; total time=   0.5s\n",
            "[CV] END max_depth=110, min_samples_leaf=4, n_estimators=400; total time=   0.5s\n",
            "[CV] END max_depth=None, min_samples_leaf=1, n_estimators=50; total time=   0.1s\n",
            "[CV] END max_depth=None, min_samples_leaf=1, n_estimators=50; total time=   0.1s\n",
            "[CV] END max_depth=None, min_samples_leaf=1, n_estimators=50; total time=   0.1s\n",
            "[CV] END max_depth=None, min_samples_leaf=1, n_estimators=225; total time=   0.3s\n",
            "[CV] END max_depth=None, min_samples_leaf=1, n_estimators=225; total time=   0.3s\n",
            "[CV] END max_depth=None, min_samples_leaf=1, n_estimators=225; total time=   0.3s\n",
            "[CV] END max_depth=None, min_samples_leaf=1, n_estimators=400; total time=   0.5s\n",
            "[CV] END max_depth=None, min_samples_leaf=1, n_estimators=400; total time=   0.5s\n",
            "[CV] END max_depth=None, min_samples_leaf=1, n_estimators=400; total time=   0.5s\n",
            "[CV] END max_depth=None, min_samples_leaf=4, n_estimators=50; total time=   0.1s\n",
            "[CV] END max_depth=None, min_samples_leaf=4, n_estimators=50; total time=   0.1s\n",
            "[CV] END max_depth=None, min_samples_leaf=4, n_estimators=50; total time=   0.1s\n",
            "[CV] END max_depth=None, min_samples_leaf=4, n_estimators=225; total time=   0.3s\n",
            "[CV] END max_depth=None, min_samples_leaf=4, n_estimators=225; total time=   0.4s\n",
            "[CV] END max_depth=None, min_samples_leaf=4, n_estimators=225; total time=   0.5s\n",
            "[CV] END max_depth=None, min_samples_leaf=4, n_estimators=400; total time=   0.8s\n",
            "[CV] END max_depth=None, min_samples_leaf=4, n_estimators=400; total time=   0.8s\n",
            "[CV] END max_depth=None, min_samples_leaf=4, n_estimators=400; total time=   0.6s\n"
          ]
        },
        {
          "output_type": "execute_result",
          "data": {
            "text/plain": [
              "GridSearchCV(cv=3, estimator=RandomForestRegressor(),\n",
              "             param_grid={'max_depth': [10, 110, None],\n",
              "                         'min_samples_leaf': [1, 4],\n",
              "                         'n_estimators': [50, 225, 400]},\n",
              "             verbose=2)"
            ],
            "text/html": [
              "<style>#sk-container-id-1 {color: black;background-color: white;}#sk-container-id-1 pre{padding: 0;}#sk-container-id-1 div.sk-toggleable {background-color: white;}#sk-container-id-1 label.sk-toggleable__label {cursor: pointer;display: block;width: 100%;margin-bottom: 0;padding: 0.3em;box-sizing: border-box;text-align: center;}#sk-container-id-1 label.sk-toggleable__label-arrow:before {content: \"▸\";float: left;margin-right: 0.25em;color: #696969;}#sk-container-id-1 label.sk-toggleable__label-arrow:hover:before {color: black;}#sk-container-id-1 div.sk-estimator:hover label.sk-toggleable__label-arrow:before {color: black;}#sk-container-id-1 div.sk-toggleable__content {max-height: 0;max-width: 0;overflow: hidden;text-align: left;background-color: #f0f8ff;}#sk-container-id-1 div.sk-toggleable__content pre {margin: 0.2em;color: black;border-radius: 0.25em;background-color: #f0f8ff;}#sk-container-id-1 input.sk-toggleable__control:checked~div.sk-toggleable__content {max-height: 200px;max-width: 100%;overflow: auto;}#sk-container-id-1 input.sk-toggleable__control:checked~label.sk-toggleable__label-arrow:before {content: \"▾\";}#sk-container-id-1 div.sk-estimator input.sk-toggleable__control:checked~label.sk-toggleable__label {background-color: #d4ebff;}#sk-container-id-1 div.sk-label input.sk-toggleable__control:checked~label.sk-toggleable__label {background-color: #d4ebff;}#sk-container-id-1 input.sk-hidden--visually {border: 0;clip: rect(1px 1px 1px 1px);clip: rect(1px, 1px, 1px, 1px);height: 1px;margin: -1px;overflow: hidden;padding: 0;position: absolute;width: 1px;}#sk-container-id-1 div.sk-estimator {font-family: monospace;background-color: #f0f8ff;border: 1px dotted black;border-radius: 0.25em;box-sizing: border-box;margin-bottom: 0.5em;}#sk-container-id-1 div.sk-estimator:hover {background-color: #d4ebff;}#sk-container-id-1 div.sk-parallel-item::after {content: \"\";width: 100%;border-bottom: 1px solid gray;flex-grow: 1;}#sk-container-id-1 div.sk-label:hover label.sk-toggleable__label {background-color: #d4ebff;}#sk-container-id-1 div.sk-serial::before {content: \"\";position: absolute;border-left: 1px solid gray;box-sizing: border-box;top: 0;bottom: 0;left: 50%;z-index: 0;}#sk-container-id-1 div.sk-serial {display: flex;flex-direction: column;align-items: center;background-color: white;padding-right: 0.2em;padding-left: 0.2em;position: relative;}#sk-container-id-1 div.sk-item {position: relative;z-index: 1;}#sk-container-id-1 div.sk-parallel {display: flex;align-items: stretch;justify-content: center;background-color: white;position: relative;}#sk-container-id-1 div.sk-item::before, #sk-container-id-1 div.sk-parallel-item::before {content: \"\";position: absolute;border-left: 1px solid gray;box-sizing: border-box;top: 0;bottom: 0;left: 50%;z-index: -1;}#sk-container-id-1 div.sk-parallel-item {display: flex;flex-direction: column;z-index: 1;position: relative;background-color: white;}#sk-container-id-1 div.sk-parallel-item:first-child::after {align-self: flex-end;width: 50%;}#sk-container-id-1 div.sk-parallel-item:last-child::after {align-self: flex-start;width: 50%;}#sk-container-id-1 div.sk-parallel-item:only-child::after {width: 0;}#sk-container-id-1 div.sk-dashed-wrapped {border: 1px dashed gray;margin: 0 0.4em 0.5em 0.4em;box-sizing: border-box;padding-bottom: 0.4em;background-color: white;}#sk-container-id-1 div.sk-label label {font-family: monospace;font-weight: bold;display: inline-block;line-height: 1.2em;}#sk-container-id-1 div.sk-label-container {text-align: center;}#sk-container-id-1 div.sk-container {/* jupyter's `normalize.less` sets `[hidden] { display: none; }` but bootstrap.min.css set `[hidden] { display: none !important; }` so we also need the `!important` here to be able to override the default hidden behavior on the sphinx rendered scikit-learn.org. See: https://github.com/scikit-learn/scikit-learn/issues/21755 */display: inline-block !important;position: relative;}#sk-container-id-1 div.sk-text-repr-fallback {display: none;}</style><div id=\"sk-container-id-1\" class=\"sk-top-container\"><div class=\"sk-text-repr-fallback\"><pre>GridSearchCV(cv=3, estimator=RandomForestRegressor(),\n",
              "             param_grid={&#x27;max_depth&#x27;: [10, 110, None],\n",
              "                         &#x27;min_samples_leaf&#x27;: [1, 4],\n",
              "                         &#x27;n_estimators&#x27;: [50, 225, 400]},\n",
              "             verbose=2)</pre><b>In a Jupyter environment, please rerun this cell to show the HTML representation or trust the notebook. <br />On GitHub, the HTML representation is unable to render, please try loading this page with nbviewer.org.</b></div><div class=\"sk-container\" hidden><div class=\"sk-item sk-dashed-wrapped\"><div class=\"sk-label-container\"><div class=\"sk-label sk-toggleable\"><input class=\"sk-toggleable__control sk-hidden--visually\" id=\"sk-estimator-id-1\" type=\"checkbox\" ><label for=\"sk-estimator-id-1\" class=\"sk-toggleable__label sk-toggleable__label-arrow\">GridSearchCV</label><div class=\"sk-toggleable__content\"><pre>GridSearchCV(cv=3, estimator=RandomForestRegressor(),\n",
              "             param_grid={&#x27;max_depth&#x27;: [10, 110, None],\n",
              "                         &#x27;min_samples_leaf&#x27;: [1, 4],\n",
              "                         &#x27;n_estimators&#x27;: [50, 225, 400]},\n",
              "             verbose=2)</pre></div></div></div><div class=\"sk-parallel\"><div class=\"sk-parallel-item\"><div class=\"sk-item\"><div class=\"sk-label-container\"><div class=\"sk-label sk-toggleable\"><input class=\"sk-toggleable__control sk-hidden--visually\" id=\"sk-estimator-id-2\" type=\"checkbox\" ><label for=\"sk-estimator-id-2\" class=\"sk-toggleable__label sk-toggleable__label-arrow\">estimator: RandomForestRegressor</label><div class=\"sk-toggleable__content\"><pre>RandomForestRegressor()</pre></div></div></div><div class=\"sk-serial\"><div class=\"sk-item\"><div class=\"sk-estimator sk-toggleable\"><input class=\"sk-toggleable__control sk-hidden--visually\" id=\"sk-estimator-id-3\" type=\"checkbox\" ><label for=\"sk-estimator-id-3\" class=\"sk-toggleable__label sk-toggleable__label-arrow\">RandomForestRegressor</label><div class=\"sk-toggleable__content\"><pre>RandomForestRegressor()</pre></div></div></div></div></div></div></div></div></div></div>"
            ]
          },
          "metadata": {},
          "execution_count": 52
        }
      ],
      "source": [
        "rf_random = GridSearchCV(estimator=rf,\n",
        "                         param_grid=param_grid,\n",
        "                         cv=3,\n",
        "                         verbose=2)\n",
        "\n",
        "rf_random.fit(X_train, Y_train)"
      ]
    },
    {
      "cell_type": "code",
      "execution_count": 53,
      "metadata": {
        "id": "AC8jqReHtpbf"
      },
      "outputs": [],
      "source": [
        "rf = rf_random.best_estimator_"
      ]
    },
    {
      "cell_type": "code",
      "execution_count": 54,
      "metadata": {
        "colab": {
          "base_uri": "https://localhost:8080/",
          "height": 449
        },
        "id": "SzsDIixktpbf",
        "outputId": "a02ad44f-b9e4-468a-ea7e-5bc194d9e481"
      },
      "outputs": [
        {
          "output_type": "display_data",
          "data": {
            "text/plain": [
              "<Figure size 640x480 with 1 Axes>"
            ],
            "image/png": "[encoded data removed]"
          },
          "metadata": {}
        }
      ],
      "source": [
        "get_plt(Y_test, get_fit(X_train, Y_train, rf))"
      ]
    },
    {
      "cell_type": "code",
      "execution_count": 55,
      "metadata": {
        "colab": {
          "base_uri": "https://localhost:8080/"
        },
        "id": "ELb-JvgYtpbf",
        "outputId": "580d6068-3753-4c31-b148-1ae4ab10d7cb"
      },
      "outputs": [
        {
          "output_type": "stream",
          "name": "stdout",
          "text": [
            "MAE: [0.05085552 0.06301576] MSE: [0.0050688  0.00783944] RMSE: [0.07119552 0.0885406 ] R2: [0.95162533 0.84317805]\n"
          ]
        }
      ],
      "source": [
        "e5 = get_e(Y_test, get_fit(X_train, Y_train, rf))"
      ]
    },
    {
      "cell_type": "code",
      "execution_count": 56,
      "metadata": {
        "id": "jmIOV_5Ltpbf"
      },
      "outputs": [],
      "source": [
        "model_e['rf'] = e5"
      ]
    },
    {
      "cell_type": "markdown",
      "metadata": {
        "id": "CwqAsl3Ztpbg"
      },
      "source": [
        "### Регрессия с множественными выходами"
      ]
    },
    {
      "cell_type": "code",
      "execution_count": 57,
      "metadata": {
        "id": "-JF2btNCtpbg"
      },
      "outputs": [],
      "source": [
        "moutr_gb = MultiOutputRegressor(GradientBoostingRegressor(n_estimators=400, learning_rate=1.0,\n",
        "                                                          max_depth=1, random_state=0)).fit(X_train, Y_train)"
      ]
    },
    {
      "cell_type": "code",
      "execution_count": 58,
      "metadata": {
        "colab": {
          "base_uri": "https://localhost:8080/",
          "height": 449
        },
        "id": "vAUxPNYDtpbg",
        "outputId": "961cc7db-2436-4743-f1e3-e42f7bf9f14d"
      },
      "outputs": [
        {
          "output_type": "display_data",
          "data": {
            "text/plain": [
              "<Figure size 640x480 with 1 Axes>"
            ],
            "image/png": "[encoded data removed]"
          },
          "metadata": {}
        }
      ],
      "source": [
        "get_plt(Y_test, get_fit(X_train, Y_train, moutr_gb))"
      ]
    },
    {
      "cell_type": "code",
      "execution_count": 59,
      "metadata": {
        "colab": {
          "base_uri": "https://localhost:8080/"
        },
        "id": "B19ZkNvftpbg",
        "outputId": "36d35a0f-148f-4cd6-96bd-050ea05ed2af"
      },
      "outputs": [
        {
          "output_type": "stream",
          "name": "stdout",
          "text": [
            "MAE: [0.04886679 0.06326113] MSE: [0.00474039 0.00796905] RMSE: [0.0688505  0.08926952] R2: [0.95475955 0.84058533]\n"
          ]
        }
      ],
      "source": [
        "e6 = get_e(Y_test, get_fit(X_train, Y_train, moutr_gb))"
      ]
    },
    {
      "cell_type": "code",
      "execution_count": 60,
      "metadata": {
        "id": "fZu-fqy9tpbg"
      },
      "outputs": [],
      "source": [
        "model_e['moutr_gb'] = e6"
      ]
    },
    {
      "cell_type": "markdown",
      "metadata": {
        "id": "VscWUKyVtpbg"
      },
      "source": [
        "### Выводы"
      ]
    },
    {
      "cell_type": "code",
      "execution_count": 61,
      "metadata": {
        "colab": {
          "base_uri": "https://localhost:8080/",
          "height": 647
        },
        "id": "iAax5VJ0tpbg",
        "outputId": "a40e9777-a6bc-4a92-9b0c-e1b49c14e3db"
      },
      "outputs": [
        {
          "output_type": "stream",
          "name": "stdout",
          "text": [
            "width_best: Model    knn_best\n",
            "MAE      0.048781\n",
            "MSE       0.00474\n",
            "RMSE     0.068847\n",
            "R2       0.954764\n",
            "Name: width, dtype: object\n",
            "depth_best: Model    knn_neighbors\n",
            "MAE           0.056187\n",
            "MSE           0.006348\n",
            "RMSE          0.079676\n",
            "R2            0.873009\n",
            "Name: depth, dtype: object\n"
          ]
        },
        {
          "output_type": "execute_result",
          "data": {
            "text/plain": [
              "               Model       MAE       MSE      RMSE        R2\n",
              "width       knn_best  0.048781  0.004740  0.068847  0.954764\n",
              "width       moutr_gb  0.048867  0.004740  0.068850  0.954760\n",
              "width  knn_neighbors  0.053854  0.004939  0.070277  0.952865\n",
              "width             rf  0.050856  0.005069  0.071196  0.951625\n",
              "width            knn  0.060573  0.007148  0.084548  0.931779\n",
              "width           LinR  0.074768  0.007817  0.088414  0.925397\n",
              "depth  knn_neighbors  0.056187  0.006348  0.079676  0.873009\n",
              "depth             rf  0.063016  0.007839  0.088541  0.843178\n",
              "depth       knn_best  0.063321  0.007962  0.089233  0.840717\n",
              "depth       moutr_gb  0.063261  0.007969  0.089270  0.840585\n",
              "depth            knn  0.066667  0.008733  0.093449  0.825310\n",
              "depth           LinR  0.101858  0.018927  0.137574  0.621386"
            ],
            "text/html": [
              "\n",
              "  <div id=\"df-b4c0a1a0-3b08-4ebf-a1c2-27b7eed326e9\" class=\"colab-df-container\">\n",
              "    <div>\n",
              "<style scoped>\n",
              "    .dataframe tbody tr th:only-of-type {\n",
              "        vertical-align: middle;\n",
              "    }\n",
              "\n",
              "    .dataframe tbody tr th {\n",
              "        vertical-align: top;\n",
              "    }\n",
              "\n",
              "    .dataframe thead th {\n",
              "        text-align: right;\n",
              "    }\n",
              "</style>\n",
              "<table border=\"1\" class=\"dataframe\">\n",
              "  <thead>\n",
              "    <tr style=\"text-align: right;\">\n",
              "      <th></th>\n",
              "      <th>Model</th>\n",
              "      <th>MAE</th>\n",
              "      <th>MSE</th>\n",
              "      <th>RMSE</th>\n",
              "      <th>R2</th>\n",
              "    </tr>\n",
              "  </thead>\n",
              "  <tbody>\n",
              "    <tr>\n",
              "      <th>width</th>\n",
              "      <td>knn_best</td>\n",
              "      <td>0.048781</td>\n",
              "      <td>0.004740</td>\n",
              "      <td>0.068847</td>\n",
              "      <td>0.954764</td>\n",
              "    </tr>\n",
              "    <tr>\n",
              "      <th>width</th>\n",
              "      <td>moutr_gb</td>\n",
              "      <td>0.048867</td>\n",
              "      <td>0.004740</td>\n",
              "      <td>0.068850</td>\n",
              "      <td>0.954760</td>\n",
              "    </tr>\n",
              "    <tr>\n",
              "      <th>width</th>\n",
              "      <td>knn_neighbors</td>\n",
              "      <td>0.053854</td>\n",
              "      <td>0.004939</td>\n",
              "      <td>0.070277</td>\n",
              "      <td>0.952865</td>\n",
              "    </tr>\n",
              "    <tr>\n",
              "      <th>width</th>\n",
              "      <td>rf</td>\n",
              "      <td>0.050856</td>\n",
              "      <td>0.005069</td>\n",
              "      <td>0.071196</td>\n",
              "      <td>0.951625</td>\n",
              "    </tr>\n",
              "    <tr>\n",
              "      <th>width</th>\n",
              "      <td>knn</td>\n",
              "      <td>0.060573</td>\n",
              "      <td>0.007148</td>\n",
              "      <td>0.084548</td>\n",
              "      <td>0.931779</td>\n",
              "    </tr>\n",
              "    <tr>\n",
              "      <th>width</th>\n",
              "      <td>LinR</td>\n",
              "      <td>0.074768</td>\n",
              "      <td>0.007817</td>\n",
              "      <td>0.088414</td>\n",
              "      <td>0.925397</td>\n",
              "    </tr>\n",
              "    <tr>\n",
              "      <th>depth</th>\n",
              "      <td>knn_neighbors</td>\n",
              "      <td>0.056187</td>\n",
              "      <td>0.006348</td>\n",
              "      <td>0.079676</td>\n",
              "      <td>0.873009</td>\n",
              "    </tr>\n",
              "    <tr>\n",
              "      <th>depth</th>\n",
              "      <td>rf</td>\n",
              "      <td>0.063016</td>\n",
              "      <td>0.007839</td>\n",
              "      <td>0.088541</td>\n",
              "      <td>0.843178</td>\n",
              "    </tr>\n",
              "    <tr>\n",
              "      <th>depth</th>\n",
              "      <td>knn_best</td>\n",
              "      <td>0.063321</td>\n",
              "      <td>0.007962</td>\n",
              "      <td>0.089233</td>\n",
              "      <td>0.840717</td>\n",
              "    </tr>\n",
              "    <tr>\n",
              "      <th>depth</th>\n",
              "      <td>moutr_gb</td>\n",
              "      <td>0.063261</td>\n",
              "      <td>0.007969</td>\n",
              "      <td>0.089270</td>\n",
              "      <td>0.840585</td>\n",
              "    </tr>\n",
              "    <tr>\n",
              "      <th>depth</th>\n",
              "      <td>knn</td>\n",
              "      <td>0.066667</td>\n",
              "      <td>0.008733</td>\n",
              "      <td>0.093449</td>\n",
              "      <td>0.825310</td>\n",
              "    </tr>\n",
              "    <tr>\n",
              "      <th>depth</th>\n",
              "      <td>LinR</td>\n",
              "      <td>0.101858</td>\n",
              "      <td>0.018927</td>\n",
              "      <td>0.137574</td>\n",
              "      <td>0.621386</td>\n",
              "    </tr>\n",
              "  </tbody>\n",
              "</table>\n",
              "</div>\n",
              "    <div class=\"colab-df-buttons\">\n",
              "\n",
              "  <div class=\"colab-df-container\">\n",
              "    <button class=\"colab-df-convert\" onclick=\"convertToInteractive('df-b4c0a1a0-3b08-4ebf-a1c2-27b7eed326e9')\"\n",
              "            title=\"Convert this dataframe to an interactive table.\"\n",
              "            style=\"display:none;\">\n",
              "\n",
              "  <svg xmlns=\"http://www.w3.org/2000/svg\" height=\"24px\" viewBox=\"0 -960 960 960\">\n",
              "    <path d=\"M120-120v-720h720v720H120Zm60-500h600v-160H180v160Zm220 220h160v-160H400v160Zm0 220h160v-160H400v160ZM180-400h160v-160H180v160Zm440 0h160v-160H620v160ZM180-180h160v-160H180v160Zm440 0h160v-160H620v160Z\"/>\n",
              "  </svg>\n",
              "    </button>\n",
              "\n",
              "  <style>\n",
              "    .colab-df-container {\n",
              "      display:flex;\n",
              "      gap: 12px;\n",
              "    }\n",
              "\n",
              "    .colab-df-convert {\n",
              "      background-color: #E8F0FE;\n",
              "      border: none;\n",
              "      border-radius: 50%;\n",
              "      cursor: pointer;\n",
              "      display: none;\n",
              "      fill: #1967D2;\n",
              "      height: 32px;\n",
              "      padding: 0 0 0 0;\n",
              "      width: 32px;\n",
              "    }\n",
              "\n",
              "    .colab-df-convert:hover {\n",
              "      background-color: #E2EBFA;\n",
              "      box-shadow: 0px 1px 2px rgba(60, 64, 67, 0.3), 0px 1px 3px 1px rgba(60, 64, 67, 0.15);\n",
              "      fill: #174EA6;\n",
              "    }\n",
              "\n",
              "    .colab-df-buttons div {\n",
              "      margin-bottom: 4px;\n",
              "    }\n",
              "\n",
              "    [theme=dark] .colab-df-convert {\n",
              "      background-color: #3B4455;\n",
              "      fill: #D2E3FC;\n",
              "    }\n",
              "\n",
              "    [theme=dark] .colab-df-convert:hover {\n",
              "      background-color: #434B5C;\n",
              "      box-shadow: 0px 1px 3px 1px rgba(0, 0, 0, 0.15);\n",
              "      filter: drop-shadow(0px 1px 2px rgba(0, 0, 0, 0.3));\n",
              "      fill: #FFFFFF;\n",
              "    }\n",
              "  </style>\n",
              "\n",
              "    <script>\n",
              "      const buttonEl =\n",
              "        document.querySelector('#df-b4c0a1a0-3b08-4ebf-a1c2-27b7eed326e9 button.colab-df-convert');\n",
              "      buttonEl.style.display =\n",
              "        google.colab.kernel.accessAllowed ? 'block' : 'none';\n",
              "\n",
              "      async function convertToInteractive(key) {\n",
              "        const element = document.querySelector('#df-b4c0a1a0-3b08-4ebf-a1c2-27b7eed326e9');\n",
              "        const dataTable =\n",
              "          await google.colab.kernel.invokeFunction('convertToInteractive',\n",
              "                                                    [key], {});\n",
              "        if (!dataTable) return;\n",
              "\n",
              "        const docLinkHtml = 'Like what you see? Visit the ' +\n",
              "          '<a target=\"_blank\" href=https://colab.research.google.com/notebooks/data_table.ipynb>data table notebook</a>'\n",
              "          + ' to learn more about interactive tables.';\n",
              "        element.innerHTML = '';\n",
              "        dataTable['output_type'] = 'display_data';\n",
              "        await google.colab.output.renderOutput(dataTable, element);\n",
              "        const docLink = document.createElement('div');\n",
              "        docLink.innerHTML = docLinkHtml;\n",
              "        element.appendChild(docLink);\n",
              "      }\n",
              "    </script>\n",
              "  </div>\n",
              "\n",
              "\n",
              "<div id=\"df-5a3a2dc9-8e49-444a-90d2-7a41fd8058fc\">\n",
              "  <button class=\"colab-df-quickchart\" onclick=\"quickchart('df-5a3a2dc9-8e49-444a-90d2-7a41fd8058fc')\"\n",
              "            title=\"Suggest charts.\"\n",
              "            style=\"display:none;\">\n",
              "\n",
              "<svg xmlns=\"http://www.w3.org/2000/svg\" height=\"24px\"viewBox=\"0 0 24 24\"\n",
              "     width=\"24px\">\n",
              "    <g>\n",
              "        <path d=\"M19 3H5c-1.1 0-2 .9-2 2v14c0 1.1.9 2 2 2h14c1.1 0 2-.9 2-2V5c0-1.1-.9-2-2-2zM9 17H7v-7h2v7zm4 0h-2V7h2v10zm4 0h-2v-4h2v4z\"/>\n",
              "    </g>\n",
              "</svg>\n",
              "  </button>\n",
              "\n",
              "<style>\n",
              "  .colab-df-quickchart {\n",
              "      --bg-color: #E8F0FE;\n",
              "      --fill-color: #1967D2;\n",
              "      --hover-bg-color: #E2EBFA;\n",
              "      --hover-fill-color: #174EA6;\n",
              "      --disabled-fill-color: #AAA;\n",
              "      --disabled-bg-color: #DDD;\n",
              "  }\n",
              "\n",
              "  [theme=dark] .colab-df-quickchart {\n",
              "      --bg-color: #3B4455;\n",
              "      --fill-color: #D2E3FC;\n",
              "      --hover-bg-color: #434B5C;\n",
              "      --hover-fill-color: #FFFFFF;\n",
              "      --disabled-bg-color: #3B4455;\n",
              "      --disabled-fill-color: #666;\n",
              "  }\n",
              "\n",
              "  .colab-df-quickchart {\n",
              "    background-color: var(--bg-color);\n",
              "    border: none;\n",
              "    border-radius: 50%;\n",
              "    cursor: pointer;\n",
              "    display: none;\n",
              "    fill: var(--fill-color);\n",
              "    height: 32px;\n",
              "    padding: 0;\n",
              "    width: 32px;\n",
              "  }\n",
              "\n",
              "  .colab-df-quickchart:hover {\n",
              "    background-color: var(--hover-bg-color);\n",
              "    box-shadow: 0 1px 2px rgba(60, 64, 67, 0.3), 0 1px 3px 1px rgba(60, 64, 67, 0.15);\n",
              "    fill: var(--button-hover-fill-color);\n",
              "  }\n",
              "\n",
              "  .colab-df-quickchart-complete:disabled,\n",
              "  .colab-df-quickchart-complete:disabled:hover {\n",
              "    background-color: var(--disabled-bg-color);\n",
              "    fill: var(--disabled-fill-color);\n",
              "    box-shadow: none;\n",
              "  }\n",
              "\n",
              "  .colab-df-spinner {\n",
              "    border: 2px solid var(--fill-color);\n",
              "    border-color: transparent;\n",
              "    border-bottom-color: var(--fill-color);\n",
              "    animation:\n",
              "      spin 1s steps(1) infinite;\n",
              "  }\n",
              "\n",
              "  @keyframes spin {\n",
              "    0% {\n",
              "      border-color: transparent;\n",
              "      border-bottom-color: var(--fill-color);\n",
              "      border-left-color: var(--fill-color);\n",
              "    }\n",
              "    20% {\n",
              "      border-color: transparent;\n",
              "      border-left-color: var(--fill-color);\n",
              "      border-top-color: var(--fill-color);\n",
              "    }\n",
              "    30% {\n",
              "      border-color: transparent;\n",
              "      border-left-color: var(--fill-color);\n",
              "      border-top-color: var(--fill-color);\n",
              "      border-right-color: var(--fill-color);\n",
              "    }\n",
              "    40% {\n",
              "      border-color: transparent;\n",
              "      border-right-color: var(--fill-color);\n",
              "      border-top-color: var(--fill-color);\n",
              "    }\n",
              "    60% {\n",
              "      border-color: transparent;\n",
              "      border-right-color: var(--fill-color);\n",
              "    }\n",
              "    80% {\n",
              "      border-color: transparent;\n",
              "      border-right-color: var(--fill-color);\n",
              "      border-bottom-color: var(--fill-color);\n",
              "    }\n",
              "    90% {\n",
              "      border-color: transparent;\n",
              "      border-bottom-color: var(--fill-color);\n",
              "    }\n",
              "  }\n",
              "</style>\n",
              "\n",
              "  <script>\n",
              "    async function quickchart(key) {\n",
              "      const quickchartButtonEl =\n",
              "        document.querySelector('#' + key + ' button');\n",
              "      quickchartButtonEl.disabled = true;  // To prevent multiple clicks.\n",
              "      quickchartButtonEl.classList.add('colab-df-spinner');\n",
              "      try {\n",
              "        const charts = await google.colab.kernel.invokeFunction(\n",
              "            'suggestCharts', [key], {});\n",
              "      } catch (error) {\n",
              "        console.error('Error during call to suggestCharts:', error);\n",
              "      }\n",
              "      quickchartButtonEl.classList.remove('colab-df-spinner');\n",
              "      quickchartButtonEl.classList.add('colab-df-quickchart-complete');\n",
              "    }\n",
              "    (() => {\n",
              "      let quickchartButtonEl =\n",
              "        document.querySelector('#df-5a3a2dc9-8e49-444a-90d2-7a41fd8058fc button');\n",
              "      quickchartButtonEl.style.display =\n",
              "        google.colab.kernel.accessAllowed ? 'block' : 'none';\n",
              "    })();\n",
              "  </script>\n",
              "</div>\n",
              "    </div>\n",
              "  </div>\n"
            ]
          },
          "metadata": {},
          "execution_count": 61
        }
      ],
      "source": [
        "# Модель с лучшим результатом по целевой переменной Ширина: knn_best\n",
        "# Модель с лучшим результатом по целевой переменной Глубина: knn_neighbors\n",
        "get_best_model()"
      ]
    },
    {
      "cell_type": "markdown",
      "source": [
        "## Сохранение моделей"
      ],
      "metadata": {
        "id": "qLqSWcis0tOA"
      }
    },
    {
      "cell_type": "code",
      "source": [
        "with open('knn_best.pkl', 'wb') as file:\n",
        "    pickle.dump(knn_best, file)"
      ],
      "metadata": {
        "id": "hemcFYVE0sOw"
      },
      "execution_count": 70,
      "outputs": []
    },
    {
      "cell_type": "code",
      "source": [
        "with open('knn_neighbors.pkl', 'wb') as file:\n",
        "    pickle.dump(knn_neighbors, file)"
      ],
      "metadata": {
        "id": "ot1Slfk5y0Ym"
      },
      "execution_count": 71,
      "outputs": []
    },
    {
      "cell_type": "markdown",
      "source": [
        "##Загрузка моделей из файла"
      ],
      "metadata": {
        "id": "q9RKVzLZ09Bv"
      }
    },
    {
      "cell_type": "code",
      "source": [
        "with open('knn_best.pkl', 'rb') as file:\n",
        "    knn_best = pickle.load(file)"
      ],
      "metadata": {
        "id": "k3Yw_lcq1ezA"
      },
      "execution_count": 72,
      "outputs": []
    },
    {
      "cell_type": "code",
      "source": [
        "knn_best.predict(X_test)"
      ],
      "metadata": {
        "colab": {
          "base_uri": "https://localhost:8080/"
        },
        "id": "RT9knbdV2Q-J",
        "outputId": "0b51d0a4-8cd7-46ff-834c-d7e056c0d538"
      },
      "execution_count": 74,
      "outputs": [
        {
          "output_type": "execute_result",
          "data": {
            "text/plain": [
              "array([[0.31521739, 0.16666667],\n",
              "       [0.31521739, 0.16666667],\n",
              "       [0.12681159, 0.4375    ],\n",
              "       [0.02536232, 0.30555556],\n",
              "       [0.92173913, 0.8       ],\n",
              "       [0.12681159, 0.4375    ],\n",
              "       [0.89130435, 0.91666667],\n",
              "       [0.12681159, 0.4375    ],\n",
              "       [0.45652174, 0.02083333],\n",
              "       [0.08695652, 0.54166667],\n",
              "       [0.12681159, 0.4375    ],\n",
              "       [0.92173913, 0.8       ],\n",
              "       [0.92173913, 0.8       ],\n",
              "       [0.11956522, 0.38541667],\n",
              "       [0.45652174, 0.02083333],\n",
              "       [0.14492754, 0.29166667],\n",
              "       [0.08695652, 0.54166667],\n",
              "       [0.10869565, 0.44444444],\n",
              "       [0.11956522, 0.38541667],\n",
              "       [0.89130435, 0.91666667],\n",
              "       [0.12681159, 0.4375    ],\n",
              "       [0.12681159, 0.4375    ]])"
            ]
          },
          "metadata": {},
          "execution_count": 74
        }
      ]
    },
    {
      "cell_type": "code",
      "source": [
        "with open('knn_neighbors.pkl', 'rb') as file:\n",
        "    knn_neighbors = pickle.load(file)"
      ],
      "metadata": {
        "id": "LFgyb9Ki1g_p"
      },
      "execution_count": 73,
      "outputs": []
    },
    {
      "cell_type": "code",
      "source": [
        "knn_neighbors.predict(X_test)"
      ],
      "metadata": {
        "colab": {
          "base_uri": "https://localhost:8080/"
        },
        "id": "Qz1fTKvE2kqo",
        "outputId": "4bedcf06-cc7d-411a-b82e-a50641391139"
      },
      "execution_count": 75,
      "outputs": [
        {
          "output_type": "execute_result",
          "data": {
            "text/plain": [
              "array([[0.34057971, 0.11111111],\n",
              "       [0.34057971, 0.11111111],\n",
              "       [0.13768116, 0.47222222],\n",
              "       [0.02536232, 0.30555556],\n",
              "       [0.92753623, 0.77083333],\n",
              "       [0.13768116, 0.47222222],\n",
              "       [0.89855072, 0.88194444],\n",
              "       [0.13768116, 0.47222222],\n",
              "       [0.39855072, 0.06944444],\n",
              "       [0.11594203, 0.54166667],\n",
              "       [0.13768116, 0.47222222],\n",
              "       [0.92753623, 0.77083333],\n",
              "       [0.92753623, 0.77083333],\n",
              "       [0.12318841, 0.38194444],\n",
              "       [0.39855072, 0.06944444],\n",
              "       [0.14492754, 0.29166667],\n",
              "       [0.11594203, 0.54166667],\n",
              "       [0.10869565, 0.44444444],\n",
              "       [0.12318841, 0.38194444],\n",
              "       [0.89855072, 0.88194444],\n",
              "       [0.13768116, 0.47222222],\n",
              "       [0.13768116, 0.47222222]])"
            ]
          },
          "metadata": {},
          "execution_count": 75
        }
      ]
    }
  ],
  "metadata": {
    "kernelspec": {
      "display_name": "Python 2",
      "language": "python",
      "name": "python2"
    },
    "language_info": {
      "codemirror_mode": {
        "name": "ipython",
        "version": 2
      },
      "file_extension": ".py",
      "mimetype": "text/x-python",
      "name": "python",
      "nbconvert_exporter": "python",
      "pygments_lexer": "ipython2",
      "version": "2.7.16"
    },
    "colab": {
      "provenance": []
    }
  },
  "nbformat": 4,
  "nbformat_minor": 0
}